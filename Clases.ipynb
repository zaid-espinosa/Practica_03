{
  "nbformat": 4,
  "nbformat_minor": 0,
  "metadata": {
    "kernelspec": {
      "display_name": "Python 3",
      "language": "python",
      "name": "python3"
    },
    "language_info": {
      "codemirror_mode": {
        "name": "ipython",
        "version": 3
      },
      "file_extension": ".py",
      "mimetype": "text/x-python",
      "name": "python",
      "nbconvert_exporter": "python",
      "pygments_lexer": "ipython3",
      "version": "3.8.2"
    },
    "colab": {
      "name": "Clases.ipynb",
      "provenance": [],
      "include_colab_link": true
    }
  },
  "cells": [
    {
      "cell_type": "markdown",
      "metadata": {
        "id": "view-in-github",
        "colab_type": "text"
      },
      "source": [
        "<a href=\"https://colab.research.google.com/github/zaid-espinosa/Practica_03/blob/master/Clases.ipynb\" target=\"_parent\"><img src=\"https://colab.research.google.com/assets/colab-badge.svg\" alt=\"Open In Colab\"/></a>"
      ]
    },
    {
      "cell_type": "markdown",
      "metadata": {
        "id": "bLxr1daCe6-V",
        "colab_type": "text"
      },
      "source": [
        "# 2. Clases"
      ]
    },
    {
      "cell_type": "markdown",
      "metadata": {
        "id": "r58IqKYXe6-X",
        "colab_type": "text"
      },
      "source": [
        "## 2.1 Introducción\n",
        "Programación Orientada Objetos es uno de los paradigmas más efectivos al momento de querer desarrollar algún tipo de software.En este pardigma se desarrollan *clases* que que representan cosas y/o situaciones, y de las clases se derivan los objetos.\n",
        "\n",
        "Cuando se desarrola una clase, se define de manera general el comportamiento de toda una gama de objetos relacionados a la semántica.\n",
        "\n",
        "Cuando se declara o define un objeto de una clase, cada objeto es equpado de manera automática con el comportamiento general de la clase, después se puede ir defiendo de manera más dellada el objeto. \n",
        "\n",
        "Cuando se dice que se *crea una instancia de una clase* se hace referencia a la creación de un objeto derivado de una clase en particular, y dentro del programa principal se trabaja con la instancia, no con la clase tal cual. "
      ]
    },
    {
      "cell_type": "markdown",
      "metadata": {
        "id": "98SigN52e6-d",
        "colab_type": "text"
      },
      "source": [
        "## 2.2 Creando y usando una clase\n",
        "\n",
        "Se puede modelar casi cualquier cosa utilizando clases. En esta sección comenzaremos a definir una clase `Perro` que  describa a cualquier tipo de perro, ninguno en particular. Inicialmente se considerarán sólo dos campos el `Nombre` y la `Edad`, ya que en cualquier mascota perro son comunes. Una vez definida la clase se mostrará la forma de poder generar dos instancias (objetos) de esta clase. Se definirán dos acciones `Sentarse` y `Rodar`. \n",
        "\n",
        "### 2.2.1 Creando la clase perro\n",
        "Cada instancia creada de la clase `Perro` deberá tener un `Nombre` y la `Edad`, observe la siguiente celda."
      ]
    },
    {
      "cell_type": "code",
      "metadata": {
        "id": "7Cjs6HrMe6-f",
        "colab_type": "code",
        "colab": {}
      },
      "source": [
        "class Perro():\n",
        "    \"\"\"Un modelo muy abstacto de un Perro\"\"\"\n",
        "    \n",
        "    def __init__(self,Nombre,Edad):\n",
        "        \"\"\"Inicializa los atributos de Nombre y Edad\"\"\"\n",
        "        self.Nombre = Nombre\n",
        "        self.Edad = Edad\n",
        "        \n",
        "    def Sentarse(self):\n",
        "        \"\"\"Simula a un perro sentarse después de que se le da orden\"\"\"\n",
        "        print(self.Nombre.title() + \" está sentado.\")\n",
        "        \n",
        "    def Rodar(self):\n",
        "        \"\"\"Simula a un perro rodarse en el piso después que se le da la orden\"\"\"\n",
        "        print(self.Nombre.title() + \" está rodando.\")"
      ],
      "execution_count": 0,
      "outputs": []
    },
    {
      "cell_type": "markdown",
      "metadata": {
        "id": "mH8fN6I0e6-t",
        "colab_type": "text"
      },
      "source": [
        "Hay muchos elementos que se deben de analizar con detalle, observe que la sintaxis para definir una clase es \n",
        "\n",
        "`class <Nombre_clase>():`\n",
        "\n",
        "donde `Nombre_clase` es el nombre de la clase, observe que las siguientes líneas debn de estar indentadas ya que así lo pide python para el alcance de las funciones y de las variables. \n",
        "\n",
        "Se pueden visualizar tres funciones dentro de la clase y todas ellas tienen como argumeto `self` que implica que éstas funciones pertenecen a la estructura de la clase. observe que los comportamientos `Sentarse(self)` y `Rodar(self)` son comportamientos o clases que se definen por el usuario, a éstas funciones se le conocen como **METODOS** y son definidos completamente por el usuario. \n",
        "\n",
        "La primer función `def __init__(self,Nombre,Edad)` se le conoce como constructor, observe que tiene los campos de Nombre y Edad, que son los campos que se habían considerando comunes entre los perros, observe que dentro de esa función hay dos elementos `self.Nombre` y `self.Edad`, a estos elementos se le conocen como atributos y y deben de llevar el prefijo `self.` ya esta directiva indica que son elementos propios de la clase. \n"
      ]
    },
    {
      "cell_type": "markdown",
      "metadata": {
        "id": "FGbi6knPe6-v",
        "colab_type": "text"
      },
      "source": [
        "### 2.2.2 Creando una instancia de una clase\n",
        "Una clase puede ser vidat como un conjunto de instrucciones para realizar un objet. La clase `Perro` es un conjutno de instrucciones que le indica a Python coo crear instancias indiiduales que representen perros de forma general.\n",
        "\n",
        "En la siguiente celda se muestra la manera de hacer un perro específico pero basádonos en la clase `Perro`\n"
      ]
    },
    {
      "cell_type": "code",
      "metadata": {
        "id": "BmHdWNH3e6-x",
        "colab_type": "code",
        "outputId": "7a32b9a9-7f59-44bb-e9fb-5bc15e6e6758",
        "colab": {
          "base_uri": "https://localhost:8080/",
          "height": 51
        }
      },
      "source": [
        "mi_perro = Perro('Orejas',7)\n",
        "print(\"El nombre de mi perro es \" + mi_perro.Nombre.title() + \".\")\n",
        "print(\"La edad de mi perro es \" + str(mi_perro.Edad) + \" anios.\")"
      ],
      "execution_count": 0,
      "outputs": [
        {
          "output_type": "stream",
          "text": [
            "El nombre de mi perro es Orejas.\n",
            "La edad de mi perro es 7 anios.\n"
          ],
          "name": "stdout"
        }
      ]
    },
    {
      "cell_type": "markdown",
      "metadata": {
        "id": "YX47Da9Ue6_A",
        "colab_type": "text"
      },
      "source": [
        "En la línea 1 de la celda anterior, se genera un objeto de la clase `Perro` y manda a llamar al constructor, el string `'Orejas'` lo asigna a attibuto `self.Nombre`, mientras que el número `7` lo asigna al atributo `self.Edad`. \n",
        "\n",
        "### 2.2.3 Accediendo a atributos y métodos\n",
        "\n",
        "Observe que en la anterior en la línea 2 y 3 se está accediendo a los atributos de una clase, para esto se debe de tener en cueta el nombre de la instancia (objeto), que en este caso es `mi_perro` y después se debe de poner el nombre del atributo acompañado previamente de un `.` De tal manera que con `mi_perro.Edad` se está accediendo al atributo de Edad.\n",
        "\n",
        "De la misma manera se puede acceder a los métodos de una clase, de tal forma que si se utiliza la instrucción `mi_perro.Sentarse()` se estaría invocando el método sentarse propio de la clase `Perro` como se muestra en la siguiente celda.\n"
      ]
    },
    {
      "cell_type": "code",
      "metadata": {
        "id": "F5oIVvJ0e6_C",
        "colab_type": "code",
        "outputId": "9d2b50d8-282f-4dd5-908a-14bd95544152",
        "colab": {
          "base_uri": "https://localhost:8080/",
          "height": 85
        }
      },
      "source": [
        "mi_perro = Perro('Orejas',7)\n",
        "print(\"El nombre de mi perro es \" + mi_perro.Nombre.title() + \".\")\n",
        "print(\"La edad de mi perro es \" + str(mi_perro.Edad) + \" anios.\")\n",
        "\n",
        "mi_perro.Sentarse()\n",
        "mi_perro.Rodar()"
      ],
      "execution_count": 0,
      "outputs": [
        {
          "output_type": "stream",
          "text": [
            "El nombre de mi perro es Orejas.\n",
            "La edad de mi perro es 7 anios.\n",
            "Orejas está sentado.\n",
            "Orejas está rodando.\n"
          ],
          "name": "stdout"
        }
      ]
    },
    {
      "cell_type": "markdown",
      "metadata": {
        "id": "5dgA6Oc2e6_Q",
        "colab_type": "text"
      },
      "source": [
        "### 2.2.4 Creando múltiples instancias.\n",
        "Se pueden crear tantas instancias como lo desee de una sóla clase, la única condición que debe de tener en cuenta es que los nombres de las instancias deben de ser distantas aunque los atributos que sean iguales, observe la siguente celda.\n"
      ]
    },
    {
      "cell_type": "code",
      "metadata": {
        "scrolled": true,
        "id": "_5GGP-fke6_S",
        "colab_type": "code",
        "outputId": "524074f7-9321-4aab-883b-de97bdcb7b5a",
        "colab": {}
      },
      "source": [
        "mi_perro = Perro('Orejas',7)\n",
        "tu_perro = Perro('Bony',8)\n",
        "\n",
        "print(\"El nombre de mi perro es: \" + mi_perro.Nombre.title())\n",
        "print(mi_perro.Nombre.title() + \" tiene \" + str(mi_perro.Edad) + \" anios de edad.\")\n",
        "print(\"\\n\")\n",
        "\n",
        "print(\"El nombre de tu perro es: \" + tu_perro.Nombre.title())\n",
        "print(tu_perro.Nombre.title() + \" tiene \" + str(tu_perro.Edad) + \" anios de edad.\")"
      ],
      "execution_count": 0,
      "outputs": [
        {
          "output_type": "stream",
          "text": [
            "El nombre de mi perro es: Orejas\n",
            "Orejas tiene 7 anios de edad.\n",
            "\n",
            "\n",
            "El nombre de tu perro es: Bony\n",
            "Bony tiene 8 anios de edad.\n"
          ],
          "name": "stdout"
        }
      ]
    },
    {
      "cell_type": "markdown",
      "metadata": {
        "id": "5zf6OG2de6_k",
        "colab_type": "text"
      },
      "source": [
        "## 2.3 Ejercicios\n",
        "\n",
        "1. a) Crear una clase llamada `Restaurant`. El método `__init__()` debe de aceptar dos atributos: El `nombre_restaurant` y el `tipo_cocina`.b) Crear un método que se llame `describe_restaurant` que imprima: *El nombre del restaurant es: ------* y *El tipo de comida que se sirve es: -------*. c) Generar"
      ]
    },
    {
      "cell_type": "code",
      "metadata": {
        "id": "_kZPdPGXe6_m",
        "colab_type": "code",
        "colab": {}
      },
      "source": [
        "class Restaurant():\n",
        "  def __init__(self, nombre_restaurant, tipo_cocina):\n",
        "    self.nombre_restaurant=nombre_restaurant\n",
        "    self.tipo_cocina=tipo_cocina\n",
        "  \n",
        "  def describe_restaurant(self):\n",
        "    print (\"El nombre del restaurant es: \" + self.nombre_restaurant.title() + \" \\nEl tipo de comida que se sirve es: \" + self.tipo_cocina.title())\n",
        "\n"
      ],
      "execution_count": 0,
      "outputs": []
    },
    {
      "cell_type": "code",
      "metadata": {
        "id": "-nNk7ibdqs4I",
        "colab_type": "code",
        "outputId": "5c96ff85-f690-42bb-bde6-3baf34df47e2",
        "colab": {
          "base_uri": "https://localhost:8080/",
          "height": 51
        }
      },
      "source": [
        "rest_uno= Restaurant (\"Pujol\", \"Mexicana\")\n",
        "rest_uno.describe_restaurant()"
      ],
      "execution_count": 0,
      "outputs": [
        {
          "output_type": "stream",
          "text": [
            "El nombre del restaurant es: Pujol \n",
            "El tipo de comida que se sirve es: Mexicana\n"
          ],
          "name": "stdout"
        }
      ]
    }
  ]
}