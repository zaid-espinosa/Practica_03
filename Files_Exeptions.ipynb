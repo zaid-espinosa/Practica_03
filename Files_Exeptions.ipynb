{
  "nbformat": 4,
  "nbformat_minor": 0,
  "metadata": {
    "kernelspec": {
      "display_name": "Python 3",
      "language": "python",
      "name": "python3"
    },
    "language_info": {
      "codemirror_mode": {
        "name": "ipython",
        "version": 3
      },
      "file_extension": ".py",
      "mimetype": "text/x-python",
      "name": "python",
      "nbconvert_exporter": "python",
      "pygments_lexer": "ipython3",
      "version": "3.7.4"
    },
    "colab": {
      "name": "Files_Exeptions.ipynb",
      "provenance": [],
      "include_colab_link": true
    }
  },
  "cells": [
    {
      "cell_type": "markdown",
      "metadata": {
        "id": "view-in-github",
        "colab_type": "text"
      },
      "source": [
        "<a href=\"https://colab.research.google.com/github/zaid-espinosa/Practica_03/blob/master/Files_Exeptions.ipynb\" target=\"_parent\"><img src=\"https://colab.research.google.com/assets/colab-badge.svg\" alt=\"Open In Colab\"/></a>"
      ]
    },
    {
      "cell_type": "markdown",
      "metadata": {
        "id": "QHytw4u7iwA-",
        "colab_type": "text"
      },
      "source": [
        "# Archivos y Excepciones\n",
        "En este *notebook* aprenderás a trabajar con archivos para poder analizar datos de manera autmática. También aprenderás a manejar errores para que los programas que se realicen no interrumpan su ejecución o que puedas establecer condiciones y acciones en vez de que simplemente se congele bajo circunstancias extraordinarias o fuera de las condiciones de diseño.\n",
        "\n",
        "Aprenderás el manejo de excepciones, que son objetos especiales de Python  para poder trabajar y manejar los errores mientras el programa está corriendo. También aprenderás a utilizar el módulo `json` , que permite guardar la información de usuario para que ésta no se pierda una vez que el programa ha finalizado la ejecución. \n",
        "\n",
        "Es de gran importancia aprender a manejar los errores ya que brinda mayor seguridad y robustez y confianza tanto para el usuario como para el programador. \n",
        "\n",
        "## Leyendo un archivo\n",
        "Existe una gran cantidad de datos en archivos de texto. Estos archivos de texto pueden contener información del clima, tráfico de información, datos socioeconómicos,etc. Poder leer información de los archivos brinda una gran apertura para poder procesar la información de manera más clara, esto es muy útil para ramas como *data analysis*, minería de datos, ciencias de datos, etc. \n",
        "\n",
        "Para poder hacer esto, lo primero que hay que hay que hacer es tener el archivo almacenado en la memoria de la computadora. Hay dos enfoques para la lectura de los archivos, en el primer enfoque se lee todo el archivo completo y después se pasa a la etapa de procesamiento y el segundo enfoque es ir leyendo el archivo conforme se va procesando. \n",
        "\n",
        "### Leyendo el archivo entero\n",
        "Como ejemplo se propone leer el valor de $\\pi$ que está guardado en un archivo cuya extensión es `.txt`, el archivo debe de contener lo siguiente"
      ]
    },
    {
      "cell_type": "code",
      "metadata": {
        "id": "wWEAq1aS6xhv",
        "colab_type": "code",
        "outputId": "aa4b404f-251a-4833-b91e-2a83b3745bb7",
        "colab": {
          "base_uri": "https://localhost:8080/",
          "height": 54
        }
      },
      "source": [
        "from google.colab import drive\n",
        "drive.mount('/content/drive')"
      ],
      "execution_count": 0,
      "outputs": [
        {
          "output_type": "stream",
          "text": [
            "Drive already mounted at /content/drive; to attempt to forcibly remount, call drive.mount(\"/content/drive\", force_remount=True).\n"
          ],
          "name": "stdout"
        }
      ]
    },
    {
      "cell_type": "markdown",
      "metadata": {
        "id": "5mA-hdcaiwBD",
        "colab_type": "raw"
      },
      "source": [
        "3.1415926535\n",
        "  8979323846\n",
        "  2643383279"
      ]
    },
    {
      "cell_type": "markdown",
      "metadata": {
        "id": "Bpk6t9k1iwBF",
        "colab_type": "text"
      },
      "source": [
        "A continuación se muestra una celda en la que se podrá leer el archivo `pi_digits.txt`"
      ]
    },
    {
      "cell_type": "code",
      "metadata": {
        "id": "pF5ZNvMbiwBH",
        "colab_type": "code",
        "outputId": "b862ea22-afe8-4197-d81c-442fd3ec2112",
        "colab": {
          "base_uri": "https://localhost:8080/",
          "height": 68
        }
      },
      "source": [
        "with open('pi_digits.txt') as miArchivo:\n",
        "    contents = miArchivo.read()\n",
        "    print(contents)"
      ],
      "execution_count": 0,
      "outputs": [
        {
          "output_type": "stream",
          "text": [
            "3.1415926535\n",
            "  8979323846\n",
            "  2643383279\n"
          ],
          "name": "stdout"
        }
      ]
    },
    {
      "cell_type": "markdown",
      "metadata": {
        "id": "v4W60CfmiwCG",
        "colab_type": "text"
      },
      "source": [
        "Para poder trabajar en algún archivo, lo primero que se tiene que hacer es *abrirlo* para poder tener acceso a él, para esto utilizamos la función `open()` que necesita un argumento: el nombre del archivo que se desea abrir. Python revisa si el archivo que se quiere abrir se encuentra en el mismo directorio donde se encuentra ejecutando el programa, si es así, no hay problema y lo abre para que el programador pueda ingresar al archivo, de lo contrario hay que especificar la ruta de acceso.\n",
        "\n",
        "La función `open()` regresa un objeto que representa el archivo, entonces `open('pi_digits.txt')` regresa un objeto que repesenta  a `pi_didits.txt`. En este caso el objeto es `miArchivo`. \n",
        "\n",
        "\n",
        "Una vez que ese tien el objeto `miArchivo` que representa a `pi_digits.txt`, se utiliza el método `read()`para poder leer el contido del archivo y almacenarlo en el *string*  `contents`."
      ]
    },
    {
      "cell_type": "markdown",
      "metadata": {
        "id": "bVlYuD0EiwCH",
        "colab_type": "text"
      },
      "source": [
        "### Rutas de acceso de un archivo\n",
        "\n",
        "Dependiendo de la organización del proyecto, quizás, el archivo que se quiera leer está en otra carpeta o directorio distinto al que se encuentra el programa de Python, si esto es así, y queremos tener acceso al archivo desde el programa de Python, es necesario que especifique la ruta de acceso.\n",
        "\n",
        "En este caso en específico se muestra una imagen con la organización del proyecto, observe que hay una carpeta que se llama `ArchivosExternos` y dentro de ésta está el archivo `Mexico.txt`, para poder ingresar a este archivo la ruta de acceso sería  `ArchivosExternos/Mexico.txt`. En la siguiente celda se muestra el programa para poder tener acceso a este archivo"
      ]
    },
    {
      "cell_type": "code",
      "metadata": {
        "id": "A09rptPviwCI",
        "colab_type": "code",
        "outputId": "0f83152f-d193-4561-c2ba-40584e84f391",
        "colab": {
          "base_uri": "https://localhost:8080/",
          "height": 34
        }
      },
      "source": [
        "with open('Mexico.txt') as miArchivo:\n",
        "    contents = miArchivo.read()\n",
        "    print(contents)"
      ],
      "execution_count": 0,
      "outputs": [
        {
          "output_type": "stream",
          "text": [
            "México es un país muy hermoso\n"
          ],
          "name": "stdout"
        }
      ]
    },
    {
      "cell_type": "markdown",
      "metadata": {
        "id": "XQZJQ0cCiwCR",
        "colab_type": "text"
      },
      "source": [
        "Es necesario tener cuidado que tengas en mente que dentro de linux y ios la dvisión entre carpetas está dada por `/`, mientras que para windows `\\`.\n",
        "\n",
        "En algunas ocasiones windeows puede reconocer el símbolo `/` y no marcar error pero no siempre lo reconoce. \n"
      ]
    },
    {
      "cell_type": "markdown",
      "metadata": {
        "id": "ajl2xyGNiwCS",
        "colab_type": "text"
      },
      "source": [
        "## Leyendo línea por línea\n",
        "\n",
        "Cuando se está leyendo un archivo, usualemente se desea analizar el archivo línea por línea. Seguramente se está buscando información específica o se quiere modificar información muy puntual. Como ejemplo suponga que encuentra un archivo que tiene información del tiempo y usted está buscando la palabra `nublado` para poder emtir las precauciones. En la siguiente sección se muestra una posibilidad para solucionar este problema. \n"
      ]
    },
    {
      "cell_type": "code",
      "metadata": {
        "id": "m6tFq1R_iwCU",
        "colab_type": "code",
        "outputId": "9c19c8e4-f87e-449c-b2ca-901865c4d01f",
        "colab": {
          "base_uri": "https://localhost:8080/",
          "height": 578
        }
      },
      "source": [
        "with open('Familia.txt') as miArchivo:\n",
        "    for line in miArchivo:\n",
        "        print(line)\n",
        "        print('---------------')"
      ],
      "execution_count": 0,
      "outputs": [
        {
          "output_type": "stream",
          "text": [
            "Abuelo\n",
            "\n",
            "---------------\n",
            "Abuela\n",
            "\n",
            "---------------\n",
            "Mamá \n",
            "\n",
            "---------------\n",
            "Papá \n",
            "\n",
            "---------------\n",
            "Hermano\n",
            "\n",
            "---------------\n",
            "Hermana\n",
            "\n",
            "---------------\n",
            "Yo\n",
            "\n",
            "---------------\n",
            "Perro1\n",
            "\n",
            "---------------\n",
            "Perro2\n",
            "\n",
            "---------------\n",
            "Gato1\n",
            "\n",
            "---------------\n",
            "Perico\n",
            "\n",
            "---------------\n"
          ],
          "name": "stdout"
        }
      ]
    },
    {
      "cell_type": "markdown",
      "metadata": {
        "id": "rDISKAz6iwCi",
        "colab_type": "text"
      },
      "source": [
        "El archivo `Familia.txt` contiene información de las personas y mascotas que conforman una familia, observe que dentro del ciclo `for` se está ingresando a cada línea, la segunda instrucción del ciclo `for` es una serie de líneas para poder separar el texto y que se pudiera observar la lectura de línea por línea. "
      ]
    },
    {
      "cell_type": "markdown",
      "metadata": {
        "id": "RLV7Yt8JiwCm",
        "colab_type": "text"
      },
      "source": [
        "## Haciendo una línea de los renglones de un archivo\n",
        "\n",
        "Cuando se utiliza `with`, el objeto que regresa `open()` está disponible solamente dentro del bloque. Si se desea utilizar el texto fuera de este bloque de códgio es necesario almacenar las líneas del código en algún contenedor apropiado para su uso, en este caso se utilizará una lista, en donde cada elemento de la lista guardará un renglón del texto original \n"
      ]
    },
    {
      "cell_type": "code",
      "metadata": {
        "id": "JaaQtK1oiwCu",
        "colab_type": "code",
        "outputId": "4b8204ce-3f12-4ab9-9c78-6525aeec0d34",
        "colab": {
          "base_uri": "https://localhost:8080/",
          "height": 204
        }
      },
      "source": [
        "archivo = 'Familia.txt'\n",
        "\n",
        "with open(archivo) as Familia:\n",
        "    #lines es una lista y se le asigna cada renglón\n",
        "    # del archivo Familia.txt\n",
        "    # Estamos dentro de with\n",
        "    lines = Familia.readlines()\n",
        "    # Saliendo de with\n",
        "    \n",
        "    \n",
        "#Estamos fuera de with y aun se tiene acceso al texto de manera indirecta\n",
        "for line in lines:\n",
        "    print(line.rstrip())"
      ],
      "execution_count": 0,
      "outputs": [
        {
          "output_type": "stream",
          "text": [
            "Abuelo\n",
            "Abuela\n",
            "Mamá\n",
            "Papá\n",
            "Hermano\n",
            "Hermana\n",
            "Yo\n",
            "Perro1\n",
            "Perro2\n",
            "Gato1\n",
            "Perico\n"
          ],
          "name": "stdout"
        }
      ]
    },
    {
      "cell_type": "markdown",
      "metadata": {
        "id": "U92N4IudiwC5",
        "colab_type": "text"
      },
      "source": [
        "## Trabajando con el contenido del archivo\n",
        "\n",
        "Una vez que ya es capaz de leer archivos y dejarlos disponibles en la memeria, ya se pueden comenzar algunas tareas de procesamiento de los archivos. \n",
        "\n",
        "### Mostrando todos los elmentos del archivo en un sólo renglón\n",
        "Una de las tareas que spueden ser más requeridas es juntar los renglones del texto. En muchas ramas de la ingeniería se requiere trabajar con números muy grandes (en cifras significativas) como puede ser el valor de $\\pi$ o $e$ que pueden venir separados en varias líneas como se muestra en la siguiente celda\n"
      ]
    },
    {
      "cell_type": "markdown",
      "metadata": {
        "id": "tcmtOt58iwC7",
        "colab_type": "raw"
      },
      "source": [
        "2.7182818284590\n",
        "452353602874713\n",
        "527481656523545"
      ]
    },
    {
      "cell_type": "markdown",
      "metadata": {
        "id": "BFH7FrqWiwDD",
        "colab_type": "text"
      },
      "source": [
        "El objetivo de la siguiente celda es leer el archivo `e.txt` guardar los renglones en una lista y después juntar los renglones en un solo renglón para después onvertirlo a un dato numérico y poder utilizarlo en los cálculos"
      ]
    },
    {
      "cell_type": "code",
      "metadata": {
        "id": "7YTHd0mQiwDE",
        "colab_type": "code",
        "outputId": "5fb73220-8fd0-4aef-f3b9-7fa27df2e1fb",
        "colab": {
          "base_uri": "https://localhost:8080/",
          "height": 51
        }
      },
      "source": [
        "archivo = 'e.txt'\n",
        "\n",
        "with open(archivo) as e:\n",
        "    lines = e.readlines()\n",
        "\n",
        "renglon = ''\n",
        "    \n",
        "    \n",
        "for line in lines:\n",
        "    renglon += line.rstrip()\n",
        "    \n",
        "print(renglon)\n",
        "print(len(renglon))\n",
        "    "
      ],
      "execution_count": 0,
      "outputs": [
        {
          "output_type": "stream",
          "text": [
            "2.7182818284590452353602874713527481656523545\n",
            "45\n"
          ],
          "name": "stdout"
        }
      ]
    },
    {
      "cell_type": "markdown",
      "metadata": {
        "id": "T1orR9PDiwDY",
        "colab_type": "text"
      },
      "source": [
        "### Otra tarea de gran importancia sería buscar información específica dentro del archivo.\n",
        "\n",
        "Para esto se ha descargado una archivo de texto plano que contiene varios nombres, la idea es poder abrir el archivo, generar una lista con todos los nombres aparecen en el texto, después buscar un nombre en específico, el programa deberá indicar si el nombre está entre la lista y su posición en la lista. \n"
      ]
    },
    {
      "cell_type": "code",
      "metadata": {
        "id": "C_o4ZLWoiwDa",
        "colab_type": "code",
        "outputId": "e517c660-988f-45f1-9897-339a00b62672",
        "colab": {
          "base_uri": "https://localhost:8080/",
          "height": 51
        }
      },
      "source": [
        "archivo = 'nombres-propios-es.txt'\n",
        "\n",
        "with open(archivo) as Nombres:\n",
        "    lines = Nombres.readlines()\n",
        "    \n",
        "#print(len(lines))\n",
        "\n",
        "name = input(\"Introduzca el nombre a buscar: \");\n",
        "name_buscar = name + '\\n'\n",
        "found = False\n",
        "\n",
        "for i in range(len(lines)):\n",
        "    if name_buscar == lines[i]:\n",
        "        print(\"El nombre: \" + name + \" se encontró en la posición: \" + str(i))\n",
        "        found = True\n",
        "        break;\n",
        "\n",
        "if not found:\n",
        "    print(\"El nombre no se encuentra en la lista\")\n",
        "        \n",
        "        "
      ],
      "execution_count": 0,
      "outputs": [
        {
          "output_type": "stream",
          "text": [
            "Introduzca el nombre a buscar: panfilo\n",
            "El nombre no se encuentra en la lista\n"
          ],
          "name": "stdout"
        }
      ]
    },
    {
      "cell_type": "markdown",
      "metadata": {
        "id": "cQKez5GDiwD2",
        "colab_type": "text"
      },
      "source": [
        "En la celda se puede observar la forma en que se hace la búsqueda de forma primitiva, con `input()` se le pide al usuario que introduzca un nombre para la búsqueda, la variable `name_buscar` contiene el nombre con el cambio de línea ya que así están guardados los nombres en la lista. En el ciclo `for` se extiende la búsqueda a lo largo de toda la lista de nombres, si el nombre ha sido encontrado se indica y se muestra la posición en la que está.\n",
        "\n",
        "Una vez que se ha recorrido toda la lista de nombres y no se ha encontrado el nombre imprime que no se ha encontrado el nombre en la lista. \n"
      ]
    },
    {
      "cell_type": "markdown",
      "metadata": {
        "id": "ionVtbYuiwD4",
        "colab_type": "text"
      },
      "source": [
        "## Ejercicios\n",
        "\n",
        "En la carpeta de `ArchivosExternos` se encuentra un archivo `apellidos-es.txt`, abrir y leer el archivo, pedir al usuario un nombre y un apellido, el programa debe de buscar en la lista de nombres si el nombre se encuentra, tambiénd debe de hacer lo mismo con los apellidos, sólo si se localizan el nombre y apellido, la búsqueda será exitosa y deberá mostrar la posición del nombre y la posición del apellido."
      ]
    },
    {
      "cell_type": "code",
      "metadata": {
        "id": "Uc3bTWfbCNLf",
        "colab_type": "code",
        "outputId": "38840d74-8196-4467-c78d-ae2bcbaa4a1c",
        "colab": {
          "base_uri": "https://localhost:8080/",
          "height": 85
        }
      },
      "source": [
        "ap='apellidos-es.txt'\n",
        "nom='nombres-propios-es.txt'\n",
        "with open(ap) as Ape:\n",
        "    lines = Ape.readlines()\n",
        "\n",
        "surname= input(\"Introduce el apellido a buscar: \")\n",
        "surname_search=surname.title() + '\\n'\n",
        "found = False\n",
        "\n",
        "for i in range(len(lines)):\n",
        "    if surname_search == lines[i]:\n",
        "        print(\"El apellido: \" + surname + \" se encontró en la posición: \" + str(i))\n",
        "        found = True\n",
        "        break;\n",
        "\n",
        "if not found:\n",
        "    print(\"El nombre no se encuentra en la lista\")\n",
        "\n",
        "with open (nom) as Nam:\n",
        "    lines= Nam.readlines()\n",
        "names=input(\"Introduce el nombre a buscar: \")\n",
        "names_search=names.title() +'\\n'\n",
        "found = False\n",
        "    \n",
        "for i in range(len(lines)):\n",
        "    if names_search == lines[i]:\n",
        "        print(\"El nombre: \" + names + \" se encontró en la posición: \" + str(i))\n",
        "        found = True\n",
        "        break;\n",
        "\n",
        "if not found:\n",
        "    print(\"El nombre no se encuentra en la lista\")"
      ],
      "execution_count": 0,
      "outputs": [
        {
          "output_type": "stream",
          "text": [
            "Introduce el apellido a buscar: vidal\n",
            "El apellido: vidal se encontró en la posición: 102\n",
            "Introduce el nombre a buscar: teodora\n",
            "El nombre: teodora se encontró en la posición: 419\n"
          ],
          "name": "stdout"
        }
      ]
    },
    {
      "cell_type": "markdown",
      "metadata": {
        "id": "5Ptx_xESiwD5",
        "colab_type": "text"
      },
      "source": [
        "## Escribiendo en un archivo\n",
        "\n",
        "Una de las maneras más simples y prácticas para poder guardar datos es escribiéndolas en un archivo. Cuando se escribe texto en un archivo, la salids del programa estará disponible para futuros procesamientos o análisis de la información, incluso cuando el programa haya terminado la ejecución. El archivo con la nueva información se puede compartir  o incluso se pueden hacer programas que utilicen el archivo con la información para graficar o hacer cualquier otra acción .\n",
        "\n",
        "### Escribiendo en un archivo vacío.\n",
        "Para escribir texto en un archivo, primeroo se necesita `abrir` el archivo con la palabra el atributo `open()`agregando un segundo argument que le india a Python que se requiere escribir en elprogrma abierto, tal como se muestra enla siguiente celda"
      ]
    },
    {
      "cell_type": "code",
      "metadata": {
        "id": "gTMYm3yGiwD6",
        "colab_type": "code",
        "colab": {}
      },
      "source": [
        "miArchivo = 'Programando_01.txt'\n",
        "with open( miArchivo,'w') as objArchivo:\n",
        "    objArchivo.write(\"Me encanta programar\")"
      ],
      "execution_count": 0,
      "outputs": []
    },
    {
      "cell_type": "markdown",
      "metadata": {
        "id": "SG2O8uoUiwEF",
        "colab_type": "text"
      },
      "source": [
        "En la celda anterior el atributo `open()` recibe dos argumentos, el primero es la dirección donde está o se desea que esté el archivo en el cual se quiere agregar texto, el segundo argumento es `w` que proviene del vocablo `write` y le da permiso al programa para poder escribir el objeto resultante es `objArchivo`.\n",
        "\n",
        "dentro de `with()` se está escribiendo utilizando el nombre del objeto que almacena el archivo, que en este caso es `objArchivo` y se invoca al método `write`, este método recibe como argumento el texto o string que se desea guardar en el archivo. \n",
        "\n",
        "\n",
        "Además de `w`, existen otros permisos que se le pueden dar al objeto del arhivo, se muestran en la siguiente tabla\n",
        "\n",
        "| Modo | Descripción                                                  |\n",
        "|------|--------------------------------------------------------------|\n",
        "|  r   | Abre un archivo sólo para lectura, es el modo predeterminado |\n",
        "| rb   | Abre un archivo sólo para lectura en formato binario         |\n",
        "| r+   | Abre un archivo para lectura y escritura                     |\n",
        "| rb+  | Abre un archivo para lectura y escritura en formato binario  |\n",
        "| w    | Abre un archivo para escritura                               |\n",
        "| wb   | Abre un archivo para escritura en formato binario            |\n",
        "| w+   | Abre un archivo para lectura y escritura                     |\n",
        "| wb+  | Abre un archivo para lectura y escritura en formato binario  |\n",
        "\n",
        "\n",
        "La función `open()` genera el archivo que se le haya demandado en caso de no existir, es necesario proporcionar la dirección donde se requiere ubicar el archivo, de lo contrario lo guardará en la misma carpeta donde se está ejecutando el programa.\n",
        "\n",
        "Es necesario tener cuidado cuando se abre un archivo y se le da el modo de `escritura(w)`ya que si no existe el archivo, se creará, y si existe se sobreescribirá perdiendo la infomación que se tenía previamente. \n",
        "\n",
        "La celda anterior no tiene salida en la terminal, sin embargo, si revisa la carpeta de `ArchivosExternos` encontrará el archivo `Programando_01.txt` que contiene el texto `Me encanta programar`, este archivo sepuede tratar como cualquier otro archivo de la computadora, se puede copiar, pegar, compartir, etc. \n",
        "\n",
        "Python sólo puede escribir texto, si usted quiere guardar algún otro dato, como un número, es necesario convertir el número a texto antes de escribirlo en el texto, esto se hace con la función `str(numero)`\n",
        "\n",
        "\n",
        "### Escribiendo múltiples líneas\n",
        "\n",
        "La función `write()` no agrega líneas en el texto que se manda a plasmar. Supongamos que se quieren agregar dos ideas en el texto lo más común sería agregarlo como se muestra en la siguiente celda\n"
      ]
    },
    {
      "cell_type": "code",
      "metadata": {
        "id": "J1n15-X-iwEG",
        "colab_type": "code",
        "colab": {}
      },
      "source": [
        "miArchivo = 'Programando_01.txt'\n",
        "with open( miArchivo,'w') as objArchivo:\n",
        "    objArchivo.write(\"Me encanta programar\")\n",
        "    objArchivo.write(\"\\nEstoy aprendiendo Python\")"
      ],
      "execution_count": 0,
      "outputs": []
    },
    {
      "cell_type": "markdown",
      "metadata": {
        "id": "1Z2xq7aciwEX",
        "colab_type": "text"
      },
      "source": [
        "De nuevo, el programa no tiene salida directa en la terminal, sin embargo, si se revisa el archivo `Programando_01.txt` que se encuentra en la carpeta `ArchivosExternos` contiene el siguiente texto\n",
        "\n",
        "\n",
        "`Me encanta programarEstoy aprendiendo Python`\n",
        "\n",
        "\n",
        "Como se observa no ha habido un cambio de línea, si se requiere hacer el cambio de línea se debe de poner de manera explícita tal como se muestra en la siguiente celda"
      ]
    },
    {
      "cell_type": "code",
      "metadata": {
        "id": "D8OR7JUfiwEe",
        "colab_type": "code",
        "colab": {}
      },
      "source": [
        "miArchivo = 'ArchivosExternos/Programando_01.txt'\n",
        "with open( miArchivo,'w') as objArchivo:\n",
        "    objArchivo.write(\"Me encanta programar\\n\")\n",
        "    objArchivo.write(\"Estoy aprendiendo Python\")"
      ],
      "execution_count": 0,
      "outputs": []
    },
    {
      "cell_type": "markdown",
      "metadata": {
        "id": "vC2hc-UriwEn",
        "colab_type": "text"
      },
      "source": [
        "El programa no muestra salida, pero los cambios en el archivo se ven de la siguiente manera \n",
        "\n",
        "\n",
        "\n",
        "`Me encanta programar\n",
        "Estoy aprendiendo Python`"
      ]
    },
    {
      "cell_type": "markdown",
      "metadata": {
        "id": "USPMrYaJiwEo",
        "colab_type": "text"
      },
      "source": [
        "De la misma manera en que se han agregado el cambio de línea se pueden agregar espacios y tabuladores, setiene que hacer de manera explicita"
      ]
    },
    {
      "cell_type": "markdown",
      "metadata": {
        "id": "MxRJtNoWiwEp",
        "colab_type": "text"
      },
      "source": [
        "### Modificando un archivo\n",
        "\n",
        "Si desea agregar contenido a un archivo en vez de sobreescribir el contenido actual , se puede abrir el archivo en modo *apéndice*. Cuando se abre un archivo en modo de apéndice Python no borra el archivo ni sobreescribe el contenido. Cualquier línea que se agregue se pondrá al ginal de la última línea del archivo. Si el archivo no existe, Python creará un archivo nuevo.\n",
        "\n",
        "Como ejemplo se tiene un archivo que tiene el siguiente texto"
      ]
    },
    {
      "cell_type": "markdown",
      "metadata": {
        "id": "dhbkCygciwEq",
        "colab_type": "raw"
      },
      "source": [
        "Me gusta comer:\n",
        "Pozole, \n",
        "Enchiladas,\n",
        "Tamales,"
      ]
    },
    {
      "cell_type": "markdown",
      "metadata": {
        "id": "9WJyYkq4iwEr",
        "colab_type": "text"
      },
      "source": [
        "Se quiere agregar al presente texto, `Tacos, Quesadilla` y `Birria`, para hacer esto, se requiere abrir el archivo en modo apéndice y agregar el texto como se muestra en la siguiente celda"
      ]
    },
    {
      "cell_type": "code",
      "metadata": {
        "id": "RL0qbEVkiwEs",
        "colab_type": "code",
        "colab": {}
      },
      "source": [
        "miArchivo = 'comida.txt'\n",
        "with open( miArchivo,'a') as objArchivo:\n",
        "    objArchivo.write('Tacos,\\n')\n",
        "    objArchivo.write('Quesadillas,\\n')\n",
        "    objArchivo.write('Birria,\\n')\n"
      ],
      "execution_count": 0,
      "outputs": []
    },
    {
      "cell_type": "markdown",
      "metadata": {
        "id": "1M-AVkjciwEw",
        "colab_type": "text"
      },
      "source": [
        "La salida del archivo se debería de ver como se muestra a continuación "
      ]
    },
    {
      "cell_type": "markdown",
      "metadata": {
        "id": "iMnJh_aDiwEz",
        "colab_type": "raw"
      },
      "source": [
        "Me gusta comer:\n",
        "Pozole, \n",
        "Enchiladas,\n",
        "Tamales,Tacos,\n",
        "Quesadillas,\n",
        "Birria,\n"
      ]
    },
    {
      "cell_type": "markdown",
      "metadata": {
        "id": "8TALgDxwiwE0",
        "colab_type": "text"
      },
      "source": [
        "## Ejercicios\n",
        "\n",
        "1. Cree un programa que se le pida a un usuario su nombre y boleta, guádelo en un archivo llamado `usuarios.txt`\n",
        "2. Genere un programa que lea 15 usuarios con sus 15 boletas, los datos del usuario y boletas, se deben de agregar al archivo `usuarios.txt`.\n",
        "3. Genere un programa que una vez que haya leído los 15 usuarios debe de revisar que no haya nombres y boletas repetidas, en caso de ser así, se deben de borrar de la lista  y los nombres y boletas resultantes deben de guardarse en un archivo `usuarios_filtrados.txt`"
      ]
    },
    {
      "cell_type": "code",
      "metadata": {
        "id": "ET5xy0WUZmrc",
        "colab_type": "code",
        "outputId": "46ab55b2-1e39-4a33-d366-fa3abc6c63fa",
        "colab": {
          "base_uri": "https://localhost:8080/",
          "height": 51
        }
      },
      "source": [
        "docu= 'usuarios.txt'\n",
        "with open (docu,'a') as regis:\n",
        "  \n",
        "  regis.write(input(\"Ingresa tu nombre completo:  \"))\n",
        "  regis.write(\"--\")\n",
        "  regis.write(input(\"Ingresa tu número de boleta: \"))\n",
        "  regis.write('\\n')\n"
      ],
      "execution_count": 0,
      "outputs": [
        {
          "output_type": "stream",
          "text": [
            "Ingresa tu nombre completo:  jaime de la rosa pedrada \n",
            "Ingresa tu número de boleta: 8945561234\n"
          ],
          "name": "stdout"
        }
      ]
    },
    {
      "cell_type": "code",
      "metadata": {
        "id": "wSVMK8n7Igxy",
        "colab_type": "code",
        "outputId": "5c6da672-6ff5-41c2-c00f-c99541e4503f",
        "colab": {
          "base_uri": "https://localhost:8080/",
          "height": 374
        }
      },
      "source": [
        "docu='usuarios.txt'\n",
        "with open (docu) as regis:\n",
        "  a=regis.read()\n",
        "  print(a)"
      ],
      "execution_count": 0,
      "outputs": [
        {
          "output_type": "stream",
          "text": [
            "antonio zaid espinosa reyes--2020302334\n",
            "antonio zaid espinosa reyes--2020302334\n",
            "antonio zaid espinosa reyes--2020302334\n",
            "antonio zaid espinosa reyes--2020302334\n",
            "mariana lópez hernández--2183055121\n",
            "laura albardo gomez--147182223\n",
            "fernando aguilar herrera--1901564819\n",
            "javier reyes cruz-35689124\n",
            "brenda bernal martinez--2020346548\n",
            "claudia reyes torres--6489312656\n",
            "fedra lopez segura--4561238497\n",
            "antonio zaid espinosa reyes--2020302334\n",
            "antonio zaid espinosa reyes--2020302334\n",
            "cecia lopez martinez--3164987653\n",
            "paulette lopez martinez--89465316\n",
            "alberto lailson faradio--4569861245 \n",
            "edson aguilar valencia --8656123459 \n",
            "julieta manjarres palomar--894612345\n",
            "ricando juaquin mendoza --6548931554\n",
            "jaime de la rosa pedrada --8945561234\n",
            "\n"
          ],
          "name": "stdout"
        }
      ]
    },
    {
      "cell_type": "code",
      "metadata": {
        "id": "BO47pmvvLVjP",
        "colab_type": "code",
        "outputId": "125f9ac9-8112-4c73-a238-a290c171619d",
        "colab": {
          "base_uri": "https://localhost:8080/",
          "height": 54
        }
      },
      "source": [
        "docu='usuarios.txt'\n",
        "f='usuarios_filtrados.txt'\n",
        "\n",
        "with open (docu,'r+') as regis:\n",
        "  lines=list(regis.readlines())\n",
        "\n",
        "with open (f,'r+') as new:\n",
        "  doc=list(new.readlines())\n",
        "\n",
        "\n",
        "for line in lines:\n",
        "  if line not in doc:\n",
        "    doc.append(line)\n",
        "\n",
        "print(doc)"
      ],
      "execution_count": 7,
      "outputs": [
        {
          "output_type": "stream",
          "text": [
            "['antonio zaid espinosa reyes--2020302334\\n', 'mariana lópez hernández--2183055121\\n', 'laura albardo gomez--147182223\\n', 'fernando aguilar herrera--1901564819\\n', 'javier reyes cruz-35689124\\n', 'brenda bernal martinez--2020346548\\n', 'claudia reyes torres--6489312656\\n', 'fedra lopez segura--4561238497\\n', 'cecia lopez martinez--3164987653\\n', 'paulette lopez martinez--89465316\\n', 'alberto lailson faradio--4569861245 \\n', 'edson aguilar valencia --8656123459 \\n', 'julieta manjarres palomar--894612345\\n', 'ricando juaquin mendoza --6548931554\\n', 'jaime de la rosa pedrada --8945561234\\n']\n"
          ],
          "name": "stdout"
        }
      ]
    },
    {
      "cell_type": "markdown",
      "metadata": {
        "id": "vdKs6hEwiwE1",
        "colab_type": "text"
      },
      "source": [
        "## Excepciones\n",
        "\n",
        "Python utiliza excepciones para poder actuar ante los errores que puedan ocurrir durante la ejecución del programa. Usualmente cuando se genere un error en la ejecución Python simplemente interrumpe el programa y sale de el, perdiendo toda la información y estado del procesamiento, esto no es bueno ya que hace que el programa no sea robusto, las excepciones ayudan a evitar estas cuestiones, no evitan los errores pero si permiten que el programa siga la ejecución o que por lo menos termine el programa de la mejor manera posible.\n",
        "\n",
        "Para las execpciones se utilizan bloques conocidos como `try-except`. Estas instrucciones le indican a Python que hacer cuando una excepción (error tolerable) se ha generado. \n",
        "\n",
        "\n",
        "### Manejando excepciones - División entre cero\n",
        "En el área de las matemáticas la división entre cero no está definida, en el área de computación si se pide al ordenador que haga una división entre cero marcara'un errror y el program simplemente dejará de trabjar (en el mejor de los casos). Trate correr la siguiente celda para que pueda experimentar el error "
      ]
    },
    {
      "cell_type": "code",
      "metadata": {
        "id": "k9wDxMrOiwE7",
        "colab_type": "code",
        "outputId": "0fa86dc3-04c3-4f94-cec6-3f8cc6b4bedd",
        "colab": {
          "base_uri": "https://localhost:8080/",
          "height": 163
        }
      },
      "source": [
        "print(5/0)"
      ],
      "execution_count": 0,
      "outputs": [
        {
          "output_type": "error",
          "ename": "ZeroDivisionError",
          "evalue": "ignored",
          "traceback": [
            "\u001b[0;31m---------------------------------------------------------------------------\u001b[0m",
            "\u001b[0;31mZeroDivisionError\u001b[0m                         Traceback (most recent call last)",
            "\u001b[0;32m<ipython-input-2-fad870a50e27>\u001b[0m in \u001b[0;36m<module>\u001b[0;34m()\u001b[0m\n\u001b[0;32m----> 1\u001b[0;31m \u001b[0mprint\u001b[0m\u001b[0;34m(\u001b[0m\u001b[0;36m5\u001b[0m\u001b[0;34m/\u001b[0m\u001b[0;36m0\u001b[0m\u001b[0;34m)\u001b[0m\u001b[0;34m\u001b[0m\u001b[0;34m\u001b[0m\u001b[0m\n\u001b[0m",
            "\u001b[0;31mZeroDivisionError\u001b[0m: division by zero"
          ]
        }
      ]
    },
    {
      "cell_type": "markdown",
      "metadata": {
        "id": "clxZv9bMiwFB",
        "colab_type": "text"
      },
      "source": [
        "Observó que si trató de correr el programa marca un error ya que la división entre cero no está definida, y el programa no se ejecuta o la ejecución es incompleta, en este caso se puede agregar una excepción y que simplemente indique que se ha generado un error. El uso de la excepción para este caso se muestra en la siguiente celda"
      ]
    },
    {
      "cell_type": "code",
      "metadata": {
        "id": "GdUap_P6iwFG",
        "colab_type": "code",
        "outputId": "414f7fb2-c73a-460c-90a7-aa987df116c7",
        "colab": {
          "base_uri": "https://localhost:8080/",
          "height": 34
        }
      },
      "source": [
        "try:\n",
        "    print(5/0)\n",
        "except ZeroDivisionError:\n",
        "    print(\"No puedes dividir entre cero\")"
      ],
      "execution_count": 0,
      "outputs": [
        {
          "output_type": "stream",
          "text": [
            "No puedes dividir entre cero\n"
          ],
          "name": "stdout"
        }
      ]
    },
    {
      "cell_type": "markdown",
      "metadata": {
        "id": "NRouhz3UiwFO",
        "colab_type": "text"
      },
      "source": [
        "Observe que se debe de poner `try:` y después la acción que se conidera puede generar un error, después de debe de poner`except`y después el tipo de error que Python genera cuando se comete alguna acción similar, en este caso es `ZeroDivisionError` y seguido se ponde laación que se quiere realizar en caso de que se llegue a  generar el error. "
      ]
    },
    {
      "cell_type": "markdown",
      "metadata": {
        "id": "WUQ4Q8vaiwFW",
        "colab_type": "text"
      },
      "source": [
        "### Excepciones para evitar salidas bruscas del programa \n",
        "\n",
        "Manejar los errores de manera correcta toma gran importancia cuando se tienen que hacer más operaciones o ejecutar más instrucciones después de que el error ocure. Esto es muyfreucneteen programas donde se le ipide información al usuario através del teclado y éste por error o para probar la robustez del programa introduce datos pra los que el programa no fue diseñado. Un ejemplo simple y sencillo donde se puede verficiar este comportamiento es en la siguiente celda.\n"
      ]
    },
    {
      "cell_type": "code",
      "metadata": {
        "id": "pj6PourViwFb",
        "colab_type": "code",
        "outputId": "159d8e08-23c1-4398-810e-589a6bf54e42",
        "colab": {
          "base_uri": "https://localhost:8080/",
          "height": 221
        }
      },
      "source": [
        "print(\"Introduce dos números para generar la división: \")\n",
        "print(\"Enter 'q' para salir: \")\n",
        "\n",
        "while True:\n",
        "    first_number = input('\\nFrist number: ')\n",
        "    if first_number == 'q':\n",
        "        break\n",
        "    second_number = input(\"Second number: \")\n",
        "    if second_number == 'q':\n",
        "        break\n",
        "    \n",
        "    answer = int(first_number)/int(second_number)\n",
        "    print(answer)"
      ],
      "execution_count": 0,
      "outputs": [
        {
          "output_type": "stream",
          "text": [
            "Introduce dos números para generar la división: \n",
            "Enter 'q' para salir: \n",
            "\n",
            "Frist number: 4\n",
            "Second number: 4\n",
            "1.0\n",
            "\n",
            "Frist number: 8\n",
            "Second number: 6\n",
            "1.3333333333333333\n",
            "\n",
            "Frist number: q\n"
          ],
          "name": "stdout"
        }
      ]
    },
    {
      "cell_type": "markdown",
      "metadata": {
        "id": "gjXob45ViwFj",
        "colab_type": "text"
      },
      "source": [
        "En el programa anterior se muestra el ejemplo de la calculadroa en el que se le piden al ususario dos números, para poder hacer la división, pero en ningún instante se verifica si la división se pude llevar a cabo. Una versión más robusta del program sería la que se muestra a continuación."
      ]
    },
    {
      "cell_type": "code",
      "metadata": {
        "id": "CuGxO_2fiwFn",
        "colab_type": "code",
        "outputId": "e9eb41ce-748a-4071-eb95-d40c074d037c",
        "colab": {
          "base_uri": "https://localhost:8080/",
          "height": 221
        }
      },
      "source": [
        "print(\"Introduce dos números para generar la división: \")\n",
        "print(\"Enter 'q' para salir: \")\n",
        "\n",
        "while True:\n",
        "    first_number = input('\\nFrist number: ')\n",
        "    if first_number == 'q':\n",
        "        break\n",
        "    second_number = input(\"Second number: \")\n",
        "    if second_number == 'q':\n",
        "        break\n",
        "    \n",
        "    try:\n",
        "        answer = int(first_number) / int(second_number)\n",
        "    except ZeroDivisionError:\n",
        "        print(\"No se puede dividir entre cero\")\n",
        "    else:\n",
        "        print(answer);"
      ],
      "execution_count": 0,
      "outputs": [
        {
          "output_type": "stream",
          "text": [
            "Introduce dos números para generar la división: \n",
            "Enter 'q' para salir: \n",
            "\n",
            "Frist number: 5\n",
            "Second number: 6\n",
            "0.8333333333333334\n",
            "\n",
            "Frist number: 2\n",
            "Second number: 0\n",
            "No se puede dividir entre cero\n",
            "\n",
            "Frist number: q\n"
          ],
          "name": "stdout"
        }
      ]
    },
    {
      "cell_type": "markdown",
      "metadata": {
        "id": "iLIG3kJuiwFt",
        "colab_type": "text"
      },
      "source": [
        "En el program anterior, se puede observar que se sigue haciendo el mismo progama que la versión anterior, la gran diferencia es que en este caso se puede introducir el segundo número con un valor de 0, la división no l ahrá sin embargo no se sale del programa ya que está dentro de un ciclo while infinito. Aunque el usuario se puede equivocar, el programa es robusto ante esas equivcaciones y esto lo hace a través del uso de las tres sentencias instrucciones `try`, `except` y `else`, observe que este `else`, se ejecutara si la excepción no se lleva a cabo y el flujo del programa será el normal.\n"
      ]
    },
    {
      "cell_type": "markdown",
      "metadata": {
        "id": "_wnrtdOMiwFt",
        "colab_type": "text"
      },
      "source": [
        "### Excepciones cuando el archivo no se encuentra\n",
        "Un error muy común es que al momento de tratar de leer un archivo, este archivo no se encuentre en la dirección especificada o que se encuentre en alguna otra dirección, esto generaría que el prograba abortara su ejecución de manera abrupta, utilizando excepciones se pueden manejar el programa de distinta forma.\n",
        "\n",
        "Observe la siiguiente celda y trate de correr la celda, anote el error que aparace ya que ese código de error lo debemos de utilizar al momento de hacer la implmentación de las excepciones. "
      ]
    },
    {
      "cell_type": "code",
      "metadata": {
        "id": "Q-arNeq4iwFu",
        "colab_type": "code",
        "outputId": "3421549e-48e3-49e4-c545-bc85f46dd110",
        "colab": {
          "base_uri": "https://localhost:8080/",
          "height": 231
        }
      },
      "source": [
        "filename = \"alicia.txt\"\n",
        "\n",
        "with open(filename) as f_obj:\n",
        "    contents = f_obj.read()\n",
        "    print(contents)"
      ],
      "execution_count": 0,
      "outputs": [
        {
          "output_type": "error",
          "ename": "FileNotFoundError",
          "evalue": "ignored",
          "traceback": [
            "\u001b[0;31m---------------------------------------------------------------------------\u001b[0m",
            "\u001b[0;31mFileNotFoundError\u001b[0m                         Traceback (most recent call last)",
            "\u001b[0;32m<ipython-input-9-f3a34c95ac2a>\u001b[0m in \u001b[0;36m<module>\u001b[0;34m()\u001b[0m\n\u001b[1;32m      1\u001b[0m \u001b[0mfilename\u001b[0m \u001b[0;34m=\u001b[0m \u001b[0;34m\"alicia.txt\"\u001b[0m\u001b[0;34m\u001b[0m\u001b[0;34m\u001b[0m\u001b[0m\n\u001b[1;32m      2\u001b[0m \u001b[0;34m\u001b[0m\u001b[0m\n\u001b[0;32m----> 3\u001b[0;31m \u001b[0;32mwith\u001b[0m \u001b[0mopen\u001b[0m\u001b[0;34m(\u001b[0m\u001b[0mfilename\u001b[0m\u001b[0;34m)\u001b[0m \u001b[0;32mas\u001b[0m \u001b[0mf_obj\u001b[0m\u001b[0;34m:\u001b[0m\u001b[0;34m\u001b[0m\u001b[0;34m\u001b[0m\u001b[0m\n\u001b[0m\u001b[1;32m      4\u001b[0m     \u001b[0mcontents\u001b[0m \u001b[0;34m=\u001b[0m \u001b[0mf_obj\u001b[0m\u001b[0;34m.\u001b[0m\u001b[0mread\u001b[0m\u001b[0;34m(\u001b[0m\u001b[0;34m)\u001b[0m\u001b[0;34m\u001b[0m\u001b[0;34m\u001b[0m\u001b[0m\n\u001b[1;32m      5\u001b[0m     \u001b[0mprint\u001b[0m\u001b[0;34m(\u001b[0m\u001b[0mcontents\u001b[0m\u001b[0;34m)\u001b[0m\u001b[0;34m\u001b[0m\u001b[0;34m\u001b[0m\u001b[0m\n",
            "\u001b[0;31mFileNotFoundError\u001b[0m: [Errno 2] No such file or directory: 'alicia.txt'"
          ]
        }
      ]
    },
    {
      "cell_type": "markdown",
      "metadata": {
        "id": "lZjjRxSmiwFz",
        "colab_type": "text"
      },
      "source": [
        "Como el archivo no estaba en la carpeta especificada va a marcar error, en este caso el error es `FileNotFoundError`. Para evitar que el programa salga de manera inesperada, es necesario hacer una implementación con las excepciones. En la siguiente columna se muestra el código"
      ]
    },
    {
      "cell_type": "code",
      "metadata": {
        "id": "aWs8fmUxiwF0",
        "colab_type": "code",
        "outputId": "8e65ba76-a733-486c-b501-8fac96b9185f",
        "colab": {
          "base_uri": "https://localhost:8080/",
          "height": 34
        }
      },
      "source": [
        "filename = \"alicia.txt\"\n",
        "\n",
        "try: \n",
        "    with open(filename) as f_obj:\n",
        "        contents = f_obj.read()\n",
        "        \n",
        "except FileNotFoundError:\n",
        "    mensaje_error = \"Lo siento, el archivo \" + filename + \" no existe\"\n",
        "    print(mensaje_error)\n",
        "    "
      ],
      "execution_count": 0,
      "outputs": [
        {
          "output_type": "stream",
          "text": [
            "Lo siento, el archivo alicia.txt no existe\n"
          ],
          "name": "stdout"
        }
      ]
    },
    {
      "cell_type": "markdown",
      "metadata": {
        "id": "G1ZQqqo6iwF7",
        "colab_type": "text"
      },
      "source": [
        "### Analizando Texto\n",
        "\n",
        "Dentro de este contexto se puede nalizar cualquier texto, incluso libros (si se tiene el archivo fuente en texto plano). Una buena página para poder descargar libros en inglés (utlizando texto plano) es a través del portal gutenberg.org.\n",
        "\n",
        "En este caso analizaremos el texto de Peter Pan y contaremos el número de palabras que existen en este libro. De forma prliminar veremeos como se separa una cadena de cracteres en palabras individuales, una vez que se entienda bien el proceso se proce al paso de la generalización para `n` renglones que tiene el libro.\n"
      ]
    },
    {
      "cell_type": "code",
      "metadata": {
        "id": "r8F8zYo9iwF8",
        "colab_type": "code",
        "outputId": "6ba4b075-4c43-4c29-c01e-79e8a7d644dd",
        "colab": {
          "base_uri": "https://localhost:8080/",
          "height": 34
        }
      },
      "source": [
        "title = \"Peter Pan\"\n",
        "title.split()\n",
        "print(\"El título tiene: \" + str(len(title.split())) + \" palabras\")"
      ],
      "execution_count": 0,
      "outputs": [
        {
          "output_type": "stream",
          "text": [
            "El título tiene: 2 palabras\n"
          ],
          "name": "stdout"
        }
      ]
    },
    {
      "cell_type": "markdown",
      "metadata": {
        "id": "zV0QZqQgiwGB",
        "colab_type": "text"
      },
      "source": [
        "Observe que en la celda anterior, el título está contenido en una cadena de caracteres, con el atributo `split()` se separan las palabras que existen en un renglón y se se ubican en una lista, con el atributo `.len()` se puede obtener el número de elementos que tiene la lista, que en este caso, coincide con las palabras, si esta lógica se generaliza para todo el libro se pueden obtener el número de palabras que tiene el libro, quedando la siguiente celda de código "
      ]
    },
    {
      "cell_type": "code",
      "metadata": {
        "id": "nZHtEYXyiwGC",
        "colab_type": "code",
        "outputId": "93e7b005-f476-4bec-e1ab-b4d1a1de4a3f",
        "colab": {
          "base_uri": "https://localhost:8080/",
          "height": 34
        }
      },
      "source": [
        "PeterPanBook = \"PeterPan.txt\"\n",
        "\n",
        "try:\n",
        "    with open(PeterPanBook) as PeterPanObj:\n",
        "        PeterPan = PeterPanObj.read()\n",
        "        \n",
        "except FileNotFoundError:\n",
        "    msg = \"Sorry, the file \" + PeterPanBook + \" no se encuentra\"\n",
        "    \n",
        "else: \n",
        "    palabras = PeterPan.split()\n",
        "    Num_pal = len(palabras)\n",
        "    print(\"El libro de Peter Pan tiene \" + str(Num_pal) + \" palabras\")"
      ],
      "execution_count": 0,
      "outputs": [
        {
          "output_type": "stream",
          "text": [
            "El libro de Peter Pan tiene 50765 palabras\n"
          ],
          "name": "stdout"
        }
      ]
    },
    {
      "cell_type": "markdown",
      "metadata": {
        "id": "PiMS_RDViwGM",
        "colab_type": "text"
      },
      "source": [
        "### Trabajando con múltiples archivos\n",
        "\n",
        "Ahoratrabajemos con más libros, par ano tener que repetir las instrucciones de la celda anterior se ha decidido hacer una función que haga su uso más generalizado. La función es la siguiente\n"
      ]
    },
    {
      "cell_type": "code",
      "metadata": {
        "id": "J8YfGx6jiwGN",
        "colab_type": "code",
        "colab": {}
      },
      "source": [
        "def cuenta_palabras(Nombre_Libro):\n",
        "    \"\"\"Cuenta el número de plabras por libro\"\"\"\n",
        "    dir_archivo = Nombre_Libro+'.txt'\n",
        "    \n",
        "    print(dir_archivo)\n",
        "    \n",
        "    try: \n",
        "        with open(dir_archivo) as libro:\n",
        "            libro_cont = libro.read()\n",
        "    except FileNotFoundError:\n",
        "        mensaje_error(\"El libro \" + Nombre_Libro + \" no se encuentra en la biblioteca\")\n",
        "    else:\n",
        "        palabras = libro_cont.split()\n",
        "        Num_pal = len(palabras)\n",
        "        print(\"El libro de Peter Pan tiene \" + str(Num_pal) + \" palabras\")\n",
        "    "
      ],
      "execution_count": 0,
      "outputs": []
    },
    {
      "cell_type": "code",
      "metadata": {
        "id": "S2LlhiQdiwGZ",
        "colab_type": "code",
        "outputId": "2ed82418-f6c3-4b5f-c875-0c630a435aa5",
        "colab": {
          "base_uri": "https://localhost:8080/",
          "height": 153
        }
      },
      "source": [
        "Nombres = ['Devils_Dictionary','Jungle_Book','Meditations','Oliver_Twist']\n",
        "\n",
        "for libro in Nombres:\n",
        "    cuenta_palabras(libro)"
      ],
      "execution_count": 0,
      "outputs": [
        {
          "output_type": "stream",
          "text": [
            "Devils_Dictionary.txt\n",
            "El libro de Peter Pan tiene 63131 palabras\n",
            "Jungle_Book.txt\n",
            "El libro de Peter Pan tiene 53865 palabras\n",
            "Meditations.txt\n",
            "El libro de Peter Pan tiene 75032 palabras\n",
            "Oliver_Twist.txt\n",
            "El libro de Peter Pan tiene 161009 palabras\n"
          ],
          "name": "stdout"
        }
      ]
    },
    {
      "cell_type": "markdown",
      "metadata": {
        "id": "s-8B5OOMiwGe",
        "colab_type": "text"
      },
      "source": [
        "## Ejercicios\n",
        "1. Uno de los problemas mas comunes cuando se piden datos a través del teclado es que el eusuario introduce texto en vez de números. Cuando se trata de convertir la entrada entero, se genera un `TypeError`. Escriba un programa que reciba dos números. Que los sume y que muestre el resutlado. Maneje ej error `TypeError` a través de excepciones de tal manera que cuando el usuario introduzca texto en vez de núero se muestre un error y se vuela repetir el programa como el caso de la división. \n",
        "\n",
        "\n",
        "2. Perros y gatos. Gener dos archivos, uno que se llame `gatos.txt`y otro que se llame `perros.txt` en cada uno ingrese el nombre de 3 animales, haga un porgrama que sea capaz de mostrar en pantalla el nombre de los gatos y que después le pida al usuario que ingrese otros 3 nombres de gatos. Lo mismo tiene que hacer con los nombres de perros"
      ]
    },
    {
      "cell_type": "code",
      "metadata": {
        "id": "cRZi1f4JiTLZ",
        "colab_type": "code",
        "outputId": "5353c912-044c-4bb4-fede-ac5042e3bb3c",
        "colab": {
          "base_uri": "https://localhost:8080/",
          "height": 221
        }
      },
      "source": [
        "print(\"Introduce dos números para generar la suma: \")\n",
        "print(\"Enter 'e' para salir: \")\n",
        "\n",
        "while True:\n",
        "    fn = input('\\nFrist number: ')\n",
        "    if fn == 'e':\n",
        "        break\n",
        "    sn = input(\"Second number: \")\n",
        "    if sn == 'e':\n",
        "        break\n",
        "    \n",
        "    try:\n",
        "        answer = int(fn) + int(sn)\n",
        "    except ValueError:\n",
        "        print(\"No se puede sumar caracteres diferentes a números\")\n",
        "    else:\n",
        "        print(answer);"
      ],
      "execution_count": 12,
      "outputs": [
        {
          "output_type": "stream",
          "text": [
            "Introduce dos números para generar la suma: \n",
            "Enter 'e' para salir: \n",
            "\n",
            "Frist number: rt\n",
            "Second number: yu\n",
            "No se puede sumar caracteres diferentes a números\n",
            "\n",
            "Frist number: 56\n",
            "Second number: 86\n",
            "142\n",
            "\n",
            "Frist number: e\n"
          ],
          "name": "stdout"
        }
      ]
    },
    {
      "cell_type": "code",
      "metadata": {
        "id": "KTfvOq2hUthl",
        "colab_type": "code",
        "colab": {
          "base_uri": "https://localhost:8080/",
          "height": 561
        },
        "outputId": "0d57db70-7269-41fe-ea15-7c7e507789b8"
      },
      "source": [
        "dog= 'perros.txt'\n",
        "with open (dog,'r+') as regi:\n",
        "  do=regi.read()\n",
        "  print(\"Nombre de perros\")\n",
        "  print(do)\n",
        "  regi.write(input(\"Ingresa el nombre del perro:  \"))\n",
        "  regi.write('\\n')\n",
        "  regi.write(input(\"Ingresa el nombre del perro: \"))\n",
        "  regi.write('\\n')\n",
        "  regi.write(input(\"Ingresa el nombre del perro: \"))\n",
        "  regi.write('\\n')\n",
        "with open (dog,'r+') as dogi:\n",
        "  a=dogi.read()\n",
        "  print(\"Nombre de perros\")\n",
        "  print(a)\n",
        "\n",
        "\n",
        "cat= 'gatos.txt'\n",
        "with open (cat,'r+') as ct:\n",
        "  do=ct.read()\n",
        "  print(\"Nombre de gatos\")\n",
        "  print(do)\n",
        "  ct.write(input(\"Ingresa el nombre del gato:  \"))\n",
        "  ct.write('\\n')\n",
        "  ct.write(input(\"Ingresa el nombre del gato: \"))\n",
        "  ct.write('\\n')\n",
        "  ct.write(input(\"Ingresa el nombre del gato: \"))\n",
        "  ct.write('\\n')\n",
        "with open (cat,'r+') as cc:\n",
        "  b=cc.read()\n",
        "  print(\"Nombre de gatos\")\n",
        "  print(b)"
      ],
      "execution_count": 35,
      "outputs": [
        {
          "output_type": "stream",
          "text": [
            "Nombre de perros\n",
            "Ned\n",
            "Copo\n",
            "Dante\n",
            "\n",
            "Ingresa el nombre del perro:  Centavo\n",
            "Ingresa el nombre del perro: Pelucho\n",
            "Ingresa el nombre del perro: Dogis\n",
            "Nombre de perros\n",
            "Ned\n",
            "Copo\n",
            "Dante\n",
            "Centavo\n",
            "Pelucho\n",
            "Dogis\n",
            "\n",
            "Nombre de gatos\n",
            "Michis\n",
            "Filemon\n",
            "Simon\n",
            "\n",
            "Ingresa el nombre del gato:  Felix\n",
            "Ingresa el nombre del gato: Candy\n",
            "Ingresa el nombre del gato: Pelusa\n",
            "Nombre de gatos\n",
            "Michis\n",
            "Filemon\n",
            "Simon\n",
            "Felix\n",
            "Candy\n",
            "Pelusa\n",
            "\n"
          ],
          "name": "stdout"
        }
      ]
    },
    {
      "cell_type": "markdown",
      "metadata": {
        "id": "En5Fe9NWiwGf",
        "colab_type": "text"
      },
      "source": [
        "# Almacenando Datos\n",
        "Algunod programas requieren guardar cierta infromación que ha recibido del ususario o información que se ha generado a lo largo de la ejecución del programa, un ejemplo muy común es en los videojuegos donde el usuario introduce sus datos y configuraciones preferrenciales para el juego, esta información es muy importante para el videojuego y se tienen que almacenar, primero en una estructura de dato como listas o diccionarios, y después en un archivo. Cuando el usuario cierra el programa la información quedará guardada en el archivo y cuando se requiera el archivo estará disponible para su uso. Una manera sencilla de hacer esto es através del módulo `json`.\n",
        "\n",
        "El módulo `json` ayuda a almacenar estructuras de datos simples que utiliza pythen en algun archivo para después cargar la información del archivo en caso de que se requiera utilizar. También se puede utilizar el `json` para compartir información entre difreentes programas de Python, la gran ventaja es que no sólo es compatible con Python, sino que el módulo `json` se ha podido generalizar para  diferentes lenguajes de programación.\n",
        "\n",
        "*El formato JSON (JavaScript Object Notation) inciialmente fue desarrollado para JavaScript. Sin embargo, se ha vuelto un estándar en tre los diferentes lenguajes de programación incluído Python.*\n",
        "\n",
        "## Usando json.dump() y json.load()\n",
        "\n",
        "A continuación se muestra un programa en el que se ejemplifica el uso de estas dos funciones par apoder almacenar las estructuras de datos. \n",
        "\n",
        "En el primer programa se muestra el uso de `json.dump()` que recibe dos argumentos, la información que desea lamacenar y arhivo donde lo queiere guardar, observe el código de la siguiente celda"
      ]
    },
    {
      "cell_type": "code",
      "metadata": {
        "id": "V6WBSKz2iwGg",
        "colab_type": "code",
        "colab": {}
      },
      "source": [
        "import json\n",
        "\n",
        "numbers = [2,3,-1,20,18,4,9]\n",
        "\n",
        "archivo = 'Numeros.json'\n",
        "with open(archivo,'w') as objArch:\n",
        "    json.dump(numbers,objArch)"
      ],
      "execution_count": 0,
      "outputs": []
    },
    {
      "cell_type": "markdown",
      "metadata": {
        "id": "HunWEXsUiwGp",
        "colab_type": "text"
      },
      "source": [
        "Si abre el achivo que se ubica dentro de la carpeta `ArchivosExternos/Numeros.json` observará que en archivo se encuentra la lista, no es texto, es una estructura de datos. \n",
        "\n",
        "En la siguiente celda se muestra el uso de `json.load` par apoder abrir un archivo y cargar las estructuras de datos para su uso a lo largo del programa.\n",
        "\n"
      ]
    },
    {
      "cell_type": "code",
      "metadata": {
        "id": "_UgwcxIziwGq",
        "colab_type": "code",
        "outputId": "8d639c92-c43b-49a1-fac6-d0df7408101d",
        "colab": {}
      },
      "source": [
        "import json\n",
        "\n",
        "archivo = 'ArchivosExternos/Numeros.json'\n",
        "with open(archivo) as obj_archivo:\n",
        "    numeros = json.load(obj_archivo)\n",
        "    \n",
        "print(numeros)"
      ],
      "execution_count": 0,
      "outputs": [
        {
          "output_type": "stream",
          "text": [
            "[2, 3, -1, 20, 18, 4, 9]\n"
          ],
          "name": "stdout"
        }
      ]
    }
  ]
}