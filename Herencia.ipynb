{
  "nbformat": 4,
  "nbformat_minor": 0,
  "metadata": {
    "kernelspec": {
      "display_name": "Python 3",
      "language": "python",
      "name": "python3"
    },
    "language_info": {
      "codemirror_mode": {
        "name": "ipython",
        "version": 3
      },
      "file_extension": ".py",
      "mimetype": "text/x-python",
      "name": "python",
      "nbconvert_exporter": "python",
      "pygments_lexer": "ipython3",
      "version": "3.8.2"
    },
    "colab": {
      "name": "Clases.ipynb",
      "provenance": [],
      "include_colab_link": true
    }
  },
  "cells": [
    {
      "cell_type": "markdown",
      "metadata": {
        "id": "view-in-github",
        "colab_type": "text"
      },
      "source": [
        "<a href=\"https://colab.research.google.com/github/zaid-espinosa/Practica_03/blob/master/Herencia.ipynb\" target=\"_parent\"><img src=\"https://colab.research.google.com/assets/colab-badge.svg\" alt=\"Open In Colab\"/></a>"
      ]
    },
    {
      "cell_type": "markdown",
      "metadata": {
        "id": "Bj4breYSZM_R",
        "colab_type": "text"
      },
      "source": [
        "# 2. Clases"
      ]
    },
    {
      "cell_type": "markdown",
      "metadata": {
        "id": "KSAs9YUwZM_f",
        "colab_type": "text"
      },
      "source": [
        "## 2.1 Introducción\n",
        "Programación Orientada Objetos es uno de los paradigmas más efectivos al momento de querer desarrollar algún tipo de software.En este pardigma se desarrollan *clases* que que representan cosas y/o situaciones, y de las clases se derivan los objetos.\n",
        "\n",
        "Cuando se desarrola una clase, se define de manera general el comportamiento de toda una gama de objetos relacionados a la semántica.\n",
        "\n",
        "Cuando se declara o define un objeto de una clase, cada objeto es equpado de manera automática con el comportamiento general de la clase, después se puede ir defiendo de manera más dellada el objeto. \n",
        "\n",
        "Cuando se dice que se *crea una instancia de una clase* se hace referencia a la creación de un objeto derivado de una clase en particular, y dentro del programa principal se trabaja con la instancia, no con la clase tal cual. "
      ]
    },
    {
      "cell_type": "markdown",
      "metadata": {
        "id": "_NQe9ycGZM_w",
        "colab_type": "text"
      },
      "source": [
        "## 2.2 Creando y usando una clase\n",
        "\n",
        "Se puede modelar casi cualquier cosa utilizando clases. En esta sección comenzaremos a definir una clase `Perro` que  describa a cualquier tipo de perro, ninguno en particular. Inicialmente se considerarán sólo dos campos el `Nombre` y la `Edad`, ya que en cualquier mascota perro son comunes. Una vez definida la clase se mostrará la forma de poder generar dos instancias (objetos) de esta clase. Se definirán dos acciones `Sentarse` y `Rodar`. \n",
        "\n",
        "### 2.2.1 Creando la clase perro\n",
        "Cada instancia creada de la clase `Perro` deberá tener un `Nombre` y la `Edad`, observe la siguiente celda."
      ]
    },
    {
      "cell_type": "code",
      "metadata": {
        "id": "xkAcUh4mZM_0",
        "colab_type": "code",
        "colab": {}
      },
      "source": [
        "class Perro():\n",
        "    \"\"\"Un modelo muy abstacto de un Perro\"\"\"\n",
        "    \n",
        "    def __init__(self,Nombre,Edad):\n",
        "        \"\"\"Inicializa los atributos de Nombre y Edad\"\"\"\n",
        "        self.Nombre = Nombre\n",
        "        self.Edad = Edad\n",
        "        \n",
        "    def Sentarse(self):\n",
        "        \"\"\"Simula a un perro sentarse después de que se le da orden\"\"\"\n",
        "        print(self.Nombre.title() + \" está sentado.\")\n",
        "        \n",
        "    def Rodar(self):\n",
        "        \"\"\"Simula a un perro rodarse en el piso después que se le da la orden\"\"\"\n",
        "        print(self.Nombre.title() + \" está rodando.\")"
      ],
      "execution_count": 0,
      "outputs": []
    },
    {
      "cell_type": "markdown",
      "metadata": {
        "id": "qxeLwV0gZNAN",
        "colab_type": "text"
      },
      "source": [
        "Hay muchos elementos que se deben de analizar con detalle, observe que la sintaxis para definir una clase es \n",
        "\n",
        "`class <Nombre_clase>():`\n",
        "\n",
        "donde `Nombre_clase` es el nombre de la clase, observe que las siguientes líneas debn de estar indentadas ya que así lo pide python para el alcance de las funciones y de las variables. \n",
        "\n",
        "Se pueden visualizar tres funciones dentro de la clase y todas ellas tienen como argumeto `self` que implica que éstas funciones pertenecen a la estructura de la clase. observe que los comportamientos `Sentarse(self)` y `Rodar(self)` son comportamientos o clases que se definen por el usuario, a éstas funciones se le conocen como **METODOS** y son definidos completamente por el usuario. \n",
        "\n",
        "La primer función `def __init__(self,Nombre,Edad)` se le conoce como constructor, observe que tiene los campos de Nombre y Edad, que son los campos que se habían considerando comunes entre los perros, observe que dentro de esa función hay dos elementos `self.Nombre` y `self.Edad`, a estos elementos se le conocen como atributos y y deben de llevar el prefijo `self.` ya esta directiva indica que son elementos propios de la clase. \n"
      ]
    },
    {
      "cell_type": "markdown",
      "metadata": {
        "id": "eYuFr25OZNAR",
        "colab_type": "text"
      },
      "source": [
        "### 2.2.2 Creando una instancia de una clase\n",
        "Una clase puede ser vidat como un conjunto de instrucciones para realizar un objet. La clase `Perro` es un conjutno de instrucciones que le indica a Python coo crear instancias indiiduales que representen perros de forma general.\n",
        "\n",
        "En la siguiente celda se muestra la manera de hacer un perro específico pero basádonos en la clase `Perro`\n"
      ]
    },
    {
      "cell_type": "code",
      "metadata": {
        "id": "gMxas9DJZNAT",
        "colab_type": "code",
        "outputId": "603d8a4a-0824-41e1-97cc-d210e056f8c3",
        "colab": {
          "base_uri": "https://localhost:8080/",
          "height": 51
        }
      },
      "source": [
        "mi_perro = Perro('Orejas',7)\n",
        "print(\"El nombre de mi perro es \" + mi_perro.Nombre.title() + \".\")\n",
        "print(\"La edad de mi perro es \" + str(mi_perro.Edad) + \" anios.\")"
      ],
      "execution_count": 0,
      "outputs": [
        {
          "output_type": "stream",
          "text": [
            "El nombre de mi perro es Orejas.\n",
            "La edad de mi perro es 7 anios.\n"
          ],
          "name": "stdout"
        }
      ]
    },
    {
      "cell_type": "markdown",
      "metadata": {
        "id": "MtejMGI7ZNAh",
        "colab_type": "text"
      },
      "source": [
        "En la línea 1 de la celda anterior, se genera un objeto de la clase `Perro` y manda a llamar al constructor, el string `'Orejas'` lo asigna a attibuto `self.Nombre`, mientras que el número `7` lo asigna al atributo `self.Edad`. \n",
        "\n",
        "### 2.2.3 Accediendo a atributos y métodos\n",
        "\n",
        "Observe que en la anterior en la línea 2 y 3 se está accediendo a los atributos de una clase, para esto se debe de tener en cueta el nombre de la instancia (objeto), que en este caso es `mi_perro` y después se debe de poner el nombre del atributo acompañado previamente de un `.` De tal manera que con `mi_perro.Edad` se está accediendo al atributo de Edad.\n",
        "\n",
        "De la misma manera se puede acceder a los métodos de una clase, de tal forma que si se utiliza la instrucción `mi_perro.Sentarse()` se estaría invocando el método sentarse propio de la clase `Perro` como se muestra en la siguiente celda.\n"
      ]
    },
    {
      "cell_type": "code",
      "metadata": {
        "id": "Ng0WOFjWZNAj",
        "colab_type": "code",
        "outputId": "55ba4ff5-6e12-42ea-ace3-ad7a65b4519a",
        "colab": {
          "base_uri": "https://localhost:8080/",
          "height": 85
        }
      },
      "source": [
        "mi_perro = Perro('Orejas',7)\n",
        "print(\"El nombre de mi perro es \" + mi_perro.Nombre.title() + \".\")\n",
        "print(\"La edad de mi perro es \" + str(mi_perro.Edad) + \" anios.\")\n",
        "\n",
        "mi_perro.Sentarse()\n",
        "mi_perro.Rodar()"
      ],
      "execution_count": 0,
      "outputs": [
        {
          "output_type": "stream",
          "text": [
            "El nombre de mi perro es Orejas.\n",
            "La edad de mi perro es 7 anios.\n",
            "Orejas está sentado.\n",
            "Orejas está rodando.\n"
          ],
          "name": "stdout"
        }
      ]
    },
    {
      "cell_type": "markdown",
      "metadata": {
        "id": "Bdcbr6rJZNBT",
        "colab_type": "text"
      },
      "source": [
        "### 2.2.4 Creando múltiples instancias.\n",
        "Se pueden crear tantas instancias como lo desee de una sóla clase, la única condición que debe de tener en cuenta es que los nombres de las instancias deben de ser distantas aunque los atributos que sean iguales, observe la siguente celda.\n"
      ]
    },
    {
      "cell_type": "code",
      "metadata": {
        "scrolled": true,
        "id": "zQoX4TmpZNBV",
        "colab_type": "code",
        "outputId": "d47139cd-59bc-4afc-ed84-8dda883727a1",
        "colab": {
          "base_uri": "https://localhost:8080/",
          "height": 119
        }
      },
      "source": [
        "mi_perro = Perro('Orejas',7)\n",
        "tu_perro = Perro('Bony',8)\n",
        "\n",
        "print(\"El nombre de mi perro es: \" + mi_perro.Nombre.title())\n",
        "print(mi_perro.Nombre.title() + \" tiene \" + str(mi_perro.Edad) + \" anios de edad.\")\n",
        "print(\"\\n\")\n",
        "\n",
        "print(\"El nombre de tu perro es: \" + tu_perro.Nombre.title())\n",
        "print(tu_perro.Nombre.title() + \" tiene \" + str(tu_perro.Edad) + \" anios de edad.\")"
      ],
      "execution_count": 0,
      "outputs": [
        {
          "output_type": "stream",
          "text": [
            "El nombre de mi perro es: Orejas\n",
            "Orejas tiene 7 anios de edad.\n",
            "\n",
            "\n",
            "El nombre de tu perro es: Bony\n",
            "Bony tiene 8 anios de edad.\n"
          ],
          "name": "stdout"
        }
      ]
    },
    {
      "cell_type": "markdown",
      "metadata": {
        "id": "Kv2JWz-BZNBg",
        "colab_type": "text"
      },
      "source": [
        "## 2.3 Ejercicios\n",
        "\n",
        "1. **Restaurante:** a) Crear una clase llamada `Restaurant`. El método `__init__()` debe de aceptar dos atributos: El `nombre_restaurant` y el `tipo_cocina`.b) Crear un método que se llame `describe_restaurant` que imprima: *El nombre del restaurant es: ------* y *El tipo de comida que se sirve es: -------*. c) Generar\n",
        "2. **Tres Restaurantes:** Crear tres restaurantes utilizando la clase que se ha definido con anterioridad y llame al método `describe_restaurant` para cada instancia de la clase. \n",
        "3. **Usuarios:** a) Cree una clase que se llame `Usuario`. b)Cree dos atributos llamados `Nombre` y `Apellido`, agregue atributos como `CURP`,`Fecha_Nacimiento`, `Sexo`, `Grado_estudios`. c)Genere un método llamado `Saluda_usuario` y que despliegue en pantalla algo como *Hola Juan Ruiz de Alarcón*. d)Genere un método que se llame `Describe_usuario` y que muestre toda la información del usuario. e)Genere 5 objetos tipo usuario y ejecute los dos métodos anteriormente descritos."
      ]
    },
    {
      "cell_type": "code",
      "metadata": {
        "id": "_2Fy5hkWNAL0",
        "colab_type": "code",
        "colab": {}
      },
      "source": [
        "class Restaurant():\n",
        "\n",
        "  def __init__(self, nombre_restaurant, tipo_cocina):\n",
        "    self.nombre_restaurant=nombre_restaurant\n",
        "    self.tipo_cocina=tipo_cocina\n",
        "\n",
        "  def describe_restaurant(self):\n",
        "    print (\"El nombre del restaurant es: \" + self.nombre_restaurant.title() + \".\"  + \"\\nEl tipo de comida que sirve es: \" + self.tipo_cocina.title() + '.')"
      ],
      "execution_count": 0,
      "outputs": []
    },
    {
      "cell_type": "code",
      "metadata": {
        "id": "zniwIJWqPfzQ",
        "colab_type": "code",
        "outputId": "bfb2ac3b-f140-48ec-b068-aaa6c8cc7e6f",
        "colab": {
          "base_uri": "https://localhost:8080/",
          "height": 119
        }
      },
      "source": [
        "pr=Restaurant('dulce patria','mexicana')\n",
        "sr=Restaurant('the backyard','americana')\n",
        "tr=Restaurant('yamasan ramen house','japonesa')\n",
        "pr.describe_restaurant()\n",
        "sr.describe_restaurant()\n",
        "tr.describe_restaurant()"
      ],
      "execution_count": 0,
      "outputs": [
        {
          "output_type": "stream",
          "text": [
            "El nombre del restaurant es: Dulce Patria.\n",
            "El tipo de comida que sirve es: Mexicana.\n",
            "El nombre del restaurant es: The Backyard.\n",
            "El tipo de comida que sirve es: Americana.\n",
            "El nombre del restaurant es: Yamasan Ramen House.\n",
            "El tipo de comida que sirve es: Japonesa.\n"
          ],
          "name": "stdout"
        }
      ]
    },
    {
      "cell_type": "code",
      "metadata": {
        "id": "QcDKy0tdRI_E",
        "colab_type": "code",
        "colab": {}
      },
      "source": [
        "class Usuario():\n",
        "\n",
        "  def __init__(self,Nombre,Apellido,CURP,Fecha_Nacimiento,Sexo,Grado_Estudio):\n",
        "    self.Nombre=Nombre\n",
        "    self.Apellido=Apellido\n",
        "    self.CURP=CURP\n",
        "    self.Fecha_Nacimiento=Fecha_Nacimiento\n",
        "    self.Sexo=Sexo\n",
        "    self.Grado_Estudio=Grado_Estudio\n",
        "\n",
        "  def Saluda_usuario(self):\n",
        "    print ('Hola ' + self.Nombre.title() + \" \" + self.Apellido.title())\n",
        "\n",
        "  def Describe_usuario(self):\n",
        "    print ('CURP: ' + str(self.CURP.upper()) + '\\nFecha de nacimiento: ' + str(self.Fecha_Nacimiento) + '\\nSexo: ' + self.Sexo.title() + '\\nGrado de Estudio: '+ self.Grado_Estudio)"
      ],
      "execution_count": 0,
      "outputs": []
    },
    {
      "cell_type": "code",
      "metadata": {
        "id": "PF9fYqIGHvc6",
        "colab_type": "code",
        "colab": {
          "base_uri": "https://localhost:8080/",
          "height": 442
        },
        "outputId": "92339b06-11aa-4924-f174-d2ad0f89825b"
      },
      "source": [
        "pu=Usuario(\"Mariana\", \"Hernandez\",\"mhe156489etyukj89\", \"15 de marzo de 1989\", \"femenino\", \"superior\" )\n",
        "pu.Saluda_usuario()\n",
        "pu.Describe_usuario()\n",
        "su=Usuario(\"claudia\",\"reyes\",\"crt070770hjksyen56\",\"07 de julio de 1970\", \"femenino\", \"secundaria\")\n",
        "su.Saluda_usuario()\n",
        "su.Describe_usuario()\n",
        "tu=Usuario(\"Antonio\", \"Espinosa\",\"axer270198sghjcbs89\", \"27 de enero de 1998\",\"masculino\", \"superior\")\n",
        "tu.Saluda_usuario()\n",
        "tu.Describe_usuario()\n",
        "cu=Usuario(\"Jonathan\",\"Reyes\",\"jser120788hdjcnth65\",\"12 de enero de 1989\",\"masculino\",\"media superior\")\n",
        "cu.Saluda_usuario()\n",
        "cu.Describe_usuario()\n",
        "qu=Usuario(\"Jovani\",\"espinosa\",\"jier151290hdncmu54\",\"15 de diciembre de 1990\",\"masculino\",\"media superios\")\n",
        "qu.Saluda_usuario()\n",
        "qu.Describe_usuario()"
      ],
      "execution_count": 9,
      "outputs": [
        {
          "output_type": "stream",
          "text": [
            "Hola Mariana Hernandez\n",
            "CURP: MHE156489ETYUKJ89\n",
            "Fecha de nacimiento: 15 de marzo de 1989\n",
            "Sexo: Femenino\n",
            "Grado de Estudio: superior\n",
            "Hola Claudia Reyes\n",
            "CURP: CRT070770HJKSYEN56\n",
            "Fecha de nacimiento: 07 de julio de 1970\n",
            "Sexo: Femenino\n",
            "Grado de Estudio: secundaria\n",
            "Hola Antonio Espinosa\n",
            "CURP: AXER270198SGHJCBS89\n",
            "Fecha de nacimiento: 27 de enero de 1998\n",
            "Sexo: Masculino\n",
            "Grado de Estudio: superior\n",
            "Hola Jonathan Reyes\n",
            "CURP: JSER120788HDJCNTH65\n",
            "Fecha de nacimiento: 12 de enero de 1989\n",
            "Sexo: Masculino\n",
            "Grado de Estudio: media superior\n",
            "Hola Jovani Espinosa\n",
            "CURP: JIER151290HDNCMU54\n",
            "Fecha de nacimiento: 15 de diciembre de 1990\n",
            "Sexo: Masculino\n",
            "Grado de Estudio: media superios\n"
          ],
          "name": "stdout"
        }
      ]
    },
    {
      "cell_type": "markdown",
      "metadata": {
        "id": "GVw8jaGKZNBh",
        "colab_type": "text"
      },
      "source": [
        "## 2.4 Trabajando con Clases e instancias\n",
        "\n",
        "### 2.4.1 Introducción\n",
        "Una vez que se desarrollado la clase, la mayor parte del tiempo se trabaja con las instancias de la clase más que con la clase misma. Es necesario saber cómo acceder a los atributos , esto se puede hacer de manera directa o indirecta. \n",
        "\n",
        "Observe la siguiente celda de código, donde se presenta una clase tipo `Carro`"
      ]
    },
    {
      "cell_type": "code",
      "metadata": {
        "id": "voH94WG3ZNBi",
        "colab_type": "code",
        "colab": {
          "base_uri": "https://localhost:8080/",
          "height": 34
        },
        "outputId": "fa1d551d-c51c-471c-f7e6-8754d0d60ed6"
      },
      "source": [
        "class Carro():\n",
        "    \"\"\"Clase carro\"\"\"\n",
        "    \n",
        "    def __init__(self, modelo, marca, anio):\n",
        "        \"\"\"Inicializa los atributos del carro\"\"\"\n",
        "        self.marca = marca\n",
        "        self.modelo = modelo\n",
        "        self.anio = anio\n",
        "    \n",
        "    def Describe_Carro(self):\n",
        "        \"\"\"Imprime la descripción del carro creado\"\"\"\n",
        "        Descripcion = str(self.anio) + ' ' + self.marca + ' ' + self.modelo\n",
        "        return Descripcion.title()\n",
        "    \n",
        "mi_auto = Carro('a4','audi',2020)\n",
        "print(mi_auto.Describe_Carro())"
      ],
      "execution_count": 1,
      "outputs": [
        {
          "output_type": "stream",
          "text": [
            "2020 Audi A4\n"
          ],
          "name": "stdout"
        }
      ]
    },
    {
      "cell_type": "markdown",
      "metadata": {
        "id": "ED9PUUAtZNCL",
        "colab_type": "text"
      },
      "source": [
        "En la línea *1* se define la clase `Carro()`, en la línea *4* está el constructor que pide la marca, modelo y año del auto. En la línea *10* está el atributo `Describe_Carro()`. En la línea *15* se muestra la creación del un objeto tipo `Carro` y en la siguiente línea se muestra el uso del único método de la clase."
      ]
    },
    {
      "cell_type": "markdown",
      "metadata": {
        "id": "CI6kE_DKZNCQ",
        "colab_type": "text"
      },
      "source": [
        "### 2.4.2 Definiendo atributos predeterminados en las clases\n",
        "Cada atributo en la clase necesita un valor inicial, no importa si es 0 o una cadena de caracteres vacía. En ocasiones hay atributos que no se mandarán como argumentos en el constructor, sin embargo, dentro del constructor se deben de inicializar. Observe el siguiente código."
      ]
    },
    {
      "cell_type": "code",
      "metadata": {
        "id": "jgQGllOxZNCl",
        "colab_type": "code",
        "colab": {
          "base_uri": "https://localhost:8080/",
          "height": 119
        },
        "outputId": "c12eaa6d-3eb1-46e3-8305-515e617b29e9"
      },
      "source": [
        "class Carro():\n",
        "    \"\"\"Clase carro\"\"\"\n",
        "    \n",
        "    def __init__(self,modelo,marca = 'Nissan', anio=2020):\n",
        "        \"\"\"Inicializa los atributos del carro\"\"\"\n",
        "        self.marca = marca\n",
        "        self.modelo = modelo\n",
        "        self.anio = anio\n",
        "        self.kilometraje = 0\n",
        "    \n",
        "    def Describe_Carro(self):\n",
        "        \"\"\"Imprime la descripción del carro creado\"\"\"\n",
        "        Descripcion = str(self.anio) + ' ' + self.marca + ' ' + self.modelo\n",
        "        return Descripcion.title()\n",
        "    \n",
        "    def muestra_Kilometraje(self):\n",
        "        \"\"\"Imprime el kilometraje del auto\"\"\"\n",
        "        print(\"Este auto tiene \" + str(self.kilometraje) +\" kilómetros recorridos\")\n",
        "        \n",
        "    \n",
        "mi_auto = Carro('audi','a4',2020)\n",
        "print(mi_auto.Describe_Carro())\n",
        "mi_auto.muestra_Kilometraje()\n",
        "\n",
        "mi_auto_2 = Carro(anio = 2019, marca = 'Nissan',modelo='Sentra')\n",
        "print(mi_auto_2.Describe_Carro())\n",
        "mi_auto.muestra_Kilometraje()\n",
        "\n",
        "mi_auto_3 = Carro(modelo = 'Versa')\n",
        "print(mi_auto_3.Describe_Carro())\n",
        "mi_auto_3.muestra_Kilometraje()\n"
      ],
      "execution_count": 11,
      "outputs": [
        {
          "output_type": "stream",
          "text": [
            "2020 A4 Audi\n",
            "Este auto tiene 0 kilómetros recorridos\n",
            "2019 Nissan Sentra\n",
            "Este auto tiene 0 kilómetros recorridos\n",
            "2020 Nissan Versa\n",
            "Este auto tiene 0 kilómetros recorridos\n"
          ],
          "name": "stdout"
        }
      ]
    },
    {
      "cell_type": "markdown",
      "metadata": {
        "id": "NrJ1LFy8ZNDZ",
        "colab_type": "text"
      },
      "source": [
        "Observe que en la línea *9* está el atributo kilometraje que se está inicializando con un valor numérico de *0*. El atributo de `kilometraje` no está como atributo en la función que define el constructor, sin embargo, si debe de estar inicializado en el cuerpo del constructor. \n",
        "\n",
        "Observe también que en la celda anterior, ya se pusieron algunos valores predeterminados para los atributos del constructor.\n",
        "\n",
        "En la clase también se ha generado un método para poder imprimir el kilometraje de cada auto.\n",
        "\n",
        "En la creación de los objetos se muestra que el constructor tiene propiedades de funciones y de argumentos posicionales."
      ]
    },
    {
      "cell_type": "markdown",
      "metadata": {
        "id": "5RD0KhwwZNDc",
        "colab_type": "text"
      },
      "source": [
        "### 2.4.3 Modificando los valores de los atributos\n",
        "Existen dos maneras de poder modificar los atributos de de una clase, la primera es de manera directa y aunque es lo más fácil y directo no es muy recomendable ya que el usuario de manera accidental podría modificar el valor de ciertos atributos que sólo deberían de ser tratados internamente (dentro de la clase) y no deberían de estar disponibles para los usuarios, a este hecho se le conoce como encapsulamiento. \n",
        "\n",
        "La otra forma que es la más recomendable y es propia del encapsulamiento es a través de métodos, además que cuando se hace a través de métodos se puede agregar cierta lógica en la manera en que se deben de modificar los atributos. \n",
        "\n",
        "#### 2.4.3.1 Modificando los valores de manera directa.\n",
        "La manera más simple y sencilla par amodificar los valores de los atributos es acceder a ellos de manera directa, observe la siguiente celda, donde se modificará el valor del kilometraje de un auto "
      ]
    },
    {
      "cell_type": "code",
      "metadata": {
        "id": "I1dxu3iSZND4",
        "colab_type": "code",
        "colab": {
          "base_uri": "https://localhost:8080/",
          "height": 68
        },
        "outputId": "4e2e20e9-ab5e-4bcc-fb8c-7a661a67de34"
      },
      "source": [
        "class Carro():\n",
        "    \"\"\"Clase carro\"\"\"\n",
        "    \n",
        "    def __init__(self,modelo,marca = 'Nissan', anio=2020):\n",
        "        \"\"\"Inicializa los atributos del carro\"\"\"\n",
        "        self.marca = marca\n",
        "        self.modelo = modelo\n",
        "        self.anio = anio\n",
        "        self.kilometraje = 0\n",
        "    \n",
        "    def Describe_Carro(self):\n",
        "        \"\"\"Imprime la descripción del carro creado\"\"\"\n",
        "        Descripcion = str(self.anio) + ' ' + self.marca + ' ' + self.modelo\n",
        "        return Descripcion.title()\n",
        "    \n",
        "    def muestra_Kilometraje(self):\n",
        "        \"\"\"Imprime el kilometraje del auto\"\"\"\n",
        "        print(\"Este auto tiene \" + str(self.kilometraje) +\" kilómetros recorridos\")\n",
        "        \n",
        "    \n",
        "mi_auto = Carro('audi','a4',2020)\n",
        "print(mi_auto.Describe_Carro())\n",
        "mi_auto.muestra_Kilometraje()\n",
        "\n",
        "# Modificando el atributo de manera directa\n",
        "mi_auto.kilometraje = 50\n",
        "\n",
        "#Mostrando el kilometraje para verificar que realmente se ha modificado\n",
        "mi_auto.muestra_Kilometraje()"
      ],
      "execution_count": 12,
      "outputs": [
        {
          "output_type": "stream",
          "text": [
            "2020 A4 Audi\n",
            "Este auto tiene 0 kilómetros recorridos\n",
            "Este auto tiene 50 kilómetros recorridos\n"
          ],
          "name": "stdout"
        }
      ]
    },
    {
      "cell_type": "markdown",
      "metadata": {
        "id": "QFE2zKmOZNES",
        "colab_type": "text"
      },
      "source": [
        "A veces esta forma de modificar puede funcionar, pero... ¿Qué pasaría si se le quisiera poner un kilometraje negativo al auto?.... La respuesta es que numéricamente se puede hacer eso, sin embargo, lógicamente no puede ser posible, o si el auto tiene 200 km recorridos ¿Se podría disminuir ese kilometraje?... La respuesta es similar, numéricamente si, aunque lógicamente no se debería de poder. "
      ]
    },
    {
      "cell_type": "markdown",
      "metadata": {
        "id": "p1ruyYhZZNEU",
        "colab_type": "text"
      },
      "source": [
        "#### 2.4.3.2  Modificando los atributos  a través de un método\n",
        "\n",
        "PUede ser útil métodos que puden modificar los atributos y noacceder a los atributos de manera directa, la idea es generar un atributo (función) que reciba el valor y que modifique el atributo de la clase, en la siguiente celda se muestra un ejemplo."
      ]
    },
    {
      "cell_type": "code",
      "metadata": {
        "id": "Ak3C1O2jZNEc",
        "colab_type": "code",
        "colab": {
          "base_uri": "https://localhost:8080/",
          "height": 68
        },
        "outputId": "c88383eb-0a92-4387-87b4-ae12fd4dd947"
      },
      "source": [
        "class Carro():\n",
        "    \"\"\"Clase carro\"\"\"\n",
        "    \n",
        "    def __init__(self,modelo,marca = 'Nissan', anio=2020):\n",
        "        \"\"\"Inicializa los atributos del carro\"\"\"\n",
        "        self.marca = marca\n",
        "        self.modelo = modelo\n",
        "        self.anio = anio\n",
        "        self.kilometraje = 0\n",
        "    \n",
        "    def Describe_Carro(self):\n",
        "        \"\"\"Imprime la descripción del carro creado\"\"\"\n",
        "        Descripcion = str(self.anio) + ' ' + self.marca + ' ' + self.modelo\n",
        "        return Descripcion.title()\n",
        "    \n",
        "    def muestra_Kilometraje(self):\n",
        "        \"\"\"Imprime el kilometraje del auto\"\"\"\n",
        "        print(\"Este auto tiene \" + str(self.kilometraje) +\" kilómetros recorridos\")\n",
        "    \n",
        "    def Leer_Kilometraje(self,valor_usuario):\n",
        "        \"\"\"Asigna el valor de de valor_usuario a kilometraje\"\"\"\n",
        "        self.kilometraje = valor_usuario\n",
        "        \n",
        "    \n",
        "mi_auto = Carro('audi','a4',2020)\n",
        "print(mi_auto.Describe_Carro())\n",
        "mi_auto.muestra_Kilometraje()\n",
        "\n",
        "# Modificando el atributo de manera directa\n",
        "mi_auto.Leer_Kilometraje(60)\n",
        "\n",
        "#Mostrando el kilometraje para verificar que realmente se ha modificado\n",
        "mi_auto.muestra_Kilometraje()"
      ],
      "execution_count": 2,
      "outputs": [
        {
          "output_type": "stream",
          "text": [
            "2020 A4 Audi\n",
            "Este auto tiene 0 kilómetros recorridos\n",
            "Este auto tiene 60 kilómetros recorridos\n"
          ],
          "name": "stdout"
        }
      ]
    },
    {
      "cell_type": "markdown",
      "metadata": {
        "id": "yqLWblt8ZNEq",
        "colab_type": "text"
      },
      "source": [
        "Observe que  en la línea *20* se ha puesto un método que además de tener como atributo *self* que indica pertenencia a una clase, se ha agregado otro argumento llamado **valor_usuario** y en la línea *23* se le asigna el valor de *valor_usuario* al atributo *self.kilometraje*.\n",
        "\n",
        "En la línea *30* se invoca el método y se le manda el valor de `60`, y en la línea `33` se muestra el efecto de haber cambiado el kilometraje.\n",
        "\n",
        "Sin embargo, este método no muestra ninguna ventaja respecto al hecho de poder modificar el atributo de manera directa. Una gran ventaja de modificar el atributo utilizando métodos es que cuando se quiere hacer con métodos se puede agregar un procesamiento de los argumentos de entrada, tal como se muestra en la siguiente celda. "
      ]
    },
    {
      "cell_type": "code",
      "metadata": {
        "id": "tAkUexI5ZNEs",
        "colab_type": "code",
        "colab": {
          "base_uri": "https://localhost:8080/",
          "height": 119
        },
        "outputId": "158f5b68-968a-4736-ccf7-a9b3ac5bb371"
      },
      "source": [
        "class Carro():\n",
        "    \"\"\"Clase carro\"\"\"\n",
        "    \n",
        "    def __init__(self,modelo,marca = 'Nissan', anio=2020):\n",
        "        \"\"\"Inicializa los atributos del carro\"\"\"\n",
        "        self.marca = marca\n",
        "        self.modelo = modelo\n",
        "        self.anio = anio\n",
        "        self.kilometraje = 0\n",
        "    \n",
        "    def Describe_Carro(self):\n",
        "        \"\"\"Imprime la descripción del carro creado\"\"\"\n",
        "        Descripcion = str(self.anio) + ' ' + self.marca + ' ' + self.modelo\n",
        "        return Descripcion.title()\n",
        "    \n",
        "    def muestra_Kilometraje(self):\n",
        "        \"\"\"Imprime el kilometraje del auto\"\"\"\n",
        "        print(\"Este auto tiene \" + str(self.kilometraje) +\" kilómetros recorridos\")\n",
        "    \n",
        "    def Leer_Kilometraje(self,valor_usuario):\n",
        "        \"\"\"Asigna el valor de de valor_usuario a kilometraje\"\"\"\n",
        "        if valor_usuario >= self.kilometraje:\n",
        "            print(\"Asignación correcta\")\n",
        "            self.kilometraje = valor_usuario\n",
        "        else:\n",
        "            print(\"Asignación incorrecta, no se ha llevado a cabo\")\n",
        "        \n",
        "    \n",
        "mi_auto = Carro('audi','a4',2020)\n",
        "print(mi_auto.Describe_Carro())\n",
        "mi_auto.muestra_Kilometraje()\n",
        "\n",
        "# Modificando el atributo de manera directa\n",
        "mi_auto.Leer_Kilometraje(60)\n",
        "\n",
        "# Mostrando el kilometraje para verificar que realmente se ha modificado\n",
        "mi_auto.muestra_Kilometraje()\n",
        "\n",
        "# Modificando el kilometraje, utilizando un valor menor\n",
        "mi_auto.Leer_Kilometraje(20)\n",
        "\n",
        "# Mostrando el kilometraje actual\n",
        "mi_auto.muestra_Kilometraje()\n"
      ],
      "execution_count": 14,
      "outputs": [
        {
          "output_type": "stream",
          "text": [
            "2020 A4 Audi\n",
            "Este auto tiene 0 kilómetros recorridos\n",
            "Asignación correcta\n",
            "Este auto tiene 60 kilómetros recorridos\n",
            "Asignación incorrecta, no se ha llevado a cabo\n",
            "Este auto tiene 60 kilómetros recorridos\n"
          ],
          "name": "stdout"
        }
      ]
    },
    {
      "cell_type": "markdown",
      "metadata": {
        "id": "7s5MMr3GZNE-",
        "colab_type": "text"
      },
      "source": [
        "El método `Leer_Kilometraje(self,valor_usuario)`, se ha modificado observe que ahora verifica si el valor por el que se quiere modificar el kilometraje es mayor o igual al kilometraje que el auto tiene, si se cumple la condición imprimirá `Asignación correcta` y ejecutará la asignación del valor del usuario al kilometraje del auto. Si el kilometraje es menor, muestra un error y la asginación no se lleva a cabo.\n",
        "\n",
        "En la línea `34` se hace una modificación correcta y en la línea `37` se muestra el kilometraje actual que es de `60km`, y en la línea `40` se muestra una asginación incorrecta, en la línea `43` se muestra el kilometraje actual del auto y observe que sigue siendo `60km`, ya que la segunda asignación fue incorrecta y no se llevó a cabo. \n"
      ]
    },
    {
      "cell_type": "markdown",
      "metadata": {
        "id": "eruEnB6BZNFN",
        "colab_type": "text"
      },
      "source": [
        "En la siguiente celda, se muestra un segundo ejemplo, en el que se agrega otro método que ayuda a ir aumentando el kilometraje "
      ]
    },
    {
      "cell_type": "code",
      "metadata": {
        "id": "4l2RSOjMZNFO",
        "colab_type": "code",
        "colab": {
          "base_uri": "https://localhost:8080/",
          "height": 153
        },
        "outputId": "d8230d24-5f64-400d-bc9d-504dd53cf1cf"
      },
      "source": [
        "class Carro():\n",
        "    \"\"\"Clase carro\"\"\"\n",
        "    \n",
        "    def __init__(self,modelo,marca = 'Nissan', anio=2020):\n",
        "        \"\"\"Inicializa los atributos del carro\"\"\"\n",
        "        self.marca = marca\n",
        "        self.modelo = modelo\n",
        "        self.anio = anio\n",
        "        self.kilometraje = 0\n",
        "    \n",
        "    def Describe_Carro(self):\n",
        "        \"\"\"Imprime la descripción del carro creado\"\"\"\n",
        "        Descripcion = str(self.anio) + ' ' + self.marca + ' ' + self.modelo\n",
        "        return Descripcion.title()\n",
        "    \n",
        "    def muestra_Kilometraje(self):\n",
        "        \"\"\"Imprime el kilometraje del auto\"\"\"\n",
        "        print(\"Este auto tiene \" + str(self.kilometraje) +\" kilómetros recorridos\")\n",
        "    \n",
        "    def Leer_Kilometraje(self,valor_usuario):\n",
        "        \"\"\"Asigna el valor de de valor_usuario a kilometraje\"\"\"\n",
        "        if valor_usuario >= self.kilometraje:\n",
        "            print(\"Asignación correcta\")\n",
        "            self.kilometraje = valor_usuario\n",
        "        else:\n",
        "            print(\"Asignación incorrecta, no se ha llevado a cabo\")\n",
        "            \n",
        "    def Actualizar_Kilometraje(self,valor_suma):\n",
        "        \"\"\"Suma el valor del usuario al kilometraje del auto\"\"\"\n",
        "        if valor_suma >= 0:\n",
        "            print(\"Incremento correcto\")\n",
        "            self.kilometraje += valor_suma\n",
        "            #self.kilometraje = self.kilometraje + valor_suma\n",
        "        else:\n",
        "            print(\"Incremento incorrecto, no se llevará a cabo\")\n",
        "        \n",
        "    \n",
        "mi_auto = Carro('audi','a4',2020)\n",
        "print(mi_auto.Describe_Carro())\n",
        "mi_auto.muestra_Kilometraje()\n",
        "\n",
        "# Modificando el atributo de manera directa\n",
        "mi_auto.Leer_Kilometraje(60)\n",
        "\n",
        "# Mostrando el kilometraje para verificar que realmente se ha modificado\n",
        "mi_auto.muestra_Kilometraje()\n",
        "\n",
        "# Sumar 20 km al kilometraje actual\n",
        "mi_auto.Actualizar_Kilometraje(20)\n",
        "\n",
        "# Mostrando el kilometraje actual\n",
        "mi_auto.muestra_Kilometraje()\n",
        "\n",
        "#Modificando el kilometraje utilizando un valor negativo\n",
        "mi_auto.Actualizar_Kilometraje(-10)\n",
        "\n",
        "# Mostrando el kilometraje actual\n",
        "mi_auto.muestra_Kilometraje()"
      ],
      "execution_count": 15,
      "outputs": [
        {
          "output_type": "stream",
          "text": [
            "2020 A4 Audi\n",
            "Este auto tiene 0 kilómetros recorridos\n",
            "Asignación correcta\n",
            "Este auto tiene 60 kilómetros recorridos\n",
            "Incremento correcto\n",
            "Este auto tiene 80 kilómetros recorridos\n",
            "Incremento incorrecto, no se llevará a cabo\n",
            "Este auto tiene 80 kilómetros recorridos\n"
          ],
          "name": "stdout"
        }
      ]
    },
    {
      "cell_type": "markdown",
      "metadata": {
        "id": "_EyYA0gOZNFX",
        "colab_type": "text"
      },
      "source": [
        "### 2.4.4 Ejercicios\n",
        "\n",
        "1. **Clientes atendidos:**   Retomar la clase de **Restaurante** que se generó a lo largo de este *notebook* y agregar un atributo que `clientes_atendidos`  y agregar dos métodos: \n",
        "    1. `Clientes_Atendidos(self,numero):` que pueda modificar el número de clientes\n",
        "        2.`Aumenta_Clientes(self,numero):` que pueda aumentar el número de clientes que se han atendido\n",
        "        \n",
        "2. **Control de acceso**    Acompletar el código de la siguiente celda, que crea una clase Usuario, donde el constructor debe de aceptar el nombre de usuario y la contraseña, cuando se invoque el método `ingresar` debe de pedir la contraseña del usuario, si la contraseña es correcta, debe de imprimir `Bienvenido a su cuenta`, si la contraseña se ingresa incorrectamente 3 veces debe de imprimir `Cuenta bloquead, intente más tarde` y debe de reiniciar la varialbe `self.intentosAcceso` a cero."
      ]
    },
    {
      "cell_type": "code",
      "metadata": {
        "id": "JRKOclw7AsR7",
        "colab_type": "code",
        "colab": {
          "base_uri": "https://localhost:8080/",
          "height": 136
        },
        "outputId": "2b707dfb-940f-4449-8127-45087c038c3f"
      },
      "source": [
        "class Restaurant():\n",
        "\n",
        "  def __init__(self, nombre_restaurant, tipo_cocina):\n",
        "    self.nombre_restaurant=nombre_restaurant\n",
        "    self.tipo_cocina=tipo_cocina\n",
        "    self.clientes_atendidos=0\n",
        "\n",
        "  def describe_restaurant(self):\n",
        "    print (\"El nombre del restaurant es: \" + self.nombre_restaurant.title() + \".\"  + \"\\nEl tipo de comida que sirve es: \" + self.tipo_cocina.title() + '.')\n",
        "\n",
        "  def muestra_clientes(self):\n",
        "      print(\"El restaurant atendio a \" + str(self.clientes_atendidos) + \" clientes\" )\n",
        "\n",
        "  def Clientes_Atendidos(self,numero):\n",
        "    if numero >= self.clientes_atendidos:\n",
        "      self.clientes_atendidos = numero\n",
        "    else:\n",
        "      print (\"Asignación incorrecta\")\n",
        "  \n",
        "  def Aumentar_Atendidos(self,numero):\n",
        "    if numero >= 0:\n",
        "      self.clientes_atendidos += numero\n",
        "    else:\n",
        "      print (\"Ingrese un número mayor a cero\")\n",
        "\n",
        "   \n",
        "      \n",
        "rest_un=Restaurant(\"teppan grill\", \"japones\")\n",
        "rest_un.describe_restaurant()\n",
        "rest_un.muestra_clientes()\n",
        "rest_un.Clientes_Atendidos(50)\n",
        "rest_un.muestra_clientes()\n",
        "rest_un.Clientes_Atendidos(10)\n",
        "rest_un.muestra_clientes()\n",
        "rest_un.Aumentar_Atendidos(5)\n",
        "rest_un.muestra_clientes()"
      ],
      "execution_count": 12,
      "outputs": [
        {
          "output_type": "stream",
          "text": [
            "El nombre del restaurant es: Teppan Grill.\n",
            "El tipo de comida que sirve es: Japones.\n",
            "El restaurant atendio a 0 clientes\n",
            "El restaurant atendio a 50 clientes\n",
            "Asignación incorrecta\n",
            "El restaurant atendio a 50 clientes\n",
            "El restaurant atendio a 55 clientes\n"
          ],
          "name": "stdout"
        }
      ]
    },
    {
      "cell_type": "code",
      "metadata": {
        "id": "lp_DpYZAZNFb",
        "colab_type": "code",
        "colab": {
          "base_uri": "https://localhost:8080/",
          "height": 136
        },
        "outputId": "0012c559-ded9-45e3-9c2d-1aa1c4772489"
      },
      "source": [
        "class User():\n",
        "    def __init__(self,Nickname,password):\n",
        "        self.nombre_usuario = Nickname\n",
        "        self.password = password\n",
        "        self.intentosAcceso = 0\n",
        "        \n",
        "    def ingresar(self):\n",
        "        while(1):\n",
        "            cont = input(\"Ingrese su contraseña:\")\n",
        "            if cont==self.password:\n",
        "                print(\"Bienvenido \")\n",
        "                break\n",
        "            else:\n",
        "                \n",
        "                print(\"Contraseña incorrecta\")\n",
        "                self.intentosAcceso += 1\n",
        "                if  self.intentosAcceso == 3:\n",
        "                    print(\"Cuenta bloqueada, intente más tarde\")\n",
        "                    break\n",
        "\n",
        "user1 = User('Juan','juan1234')\n",
        "user1.ingresar()"
      ],
      "execution_count": 31,
      "outputs": [
        {
          "output_type": "stream",
          "text": [
            "Ingrese su contraseña:fjk\n",
            "Contraseña incorrecta\n",
            "Ingrese su contraseña:fndmf\n",
            "Contraseña incorrecta\n",
            "Ingrese su contraseña:mfkr\n",
            "Contraseña incorrecta\n",
            "Cuenta bloqueada, intente más tarde\n"
          ],
          "name": "stdout"
        }
      ]
    },
    {
      "cell_type": "markdown",
      "metadata": {
        "id": "q9tg-m3GZNFi",
        "colab_type": "text"
      },
      "source": [
        "## 2.5 Herencia"
      ]
    },
    {
      "cell_type": "markdown",
      "metadata": {
        "id": "pJ-1cDaMZNFj",
        "colab_type": "text"
      },
      "source": [
        "Al momento de iniciar un nuevo programa o proyecto, no necesariamente se debe de comenzar desde cero y definr las clases y todos los slementos propios para le nuevo proyecto, se puede reciclar y reutilizar código de proyectos anteriores, por ejemplo es muy común que las bases de datos tengan varios campos en común, en vez de ir desarrollando cada campo de manera individual se utiliza una clase base y que de ésta clase base se derive una clase secundaria que contenga todos elementos de la clase base, a este hecho se le conoce como herencia.\n",
        "\n",
        "\n",
        "Cuando una clase es heredada o ha sido derivada de otra clase, hereda todos atributos y métodos de la primera clase. La calse original se le conoce como *clase padre*, y a la nueva clase se le conoce como *clase hijo*.La clase hijo o hija hereda todos los atributs y métodos de la clase pdre pero también es libre de poder definir atributos y métodos propios que la diferencian de la clase padre.\n"
      ]
    },
    {
      "cell_type": "markdown",
      "metadata": {
        "id": "TR_SICttZNFs",
        "colab_type": "text"
      },
      "source": [
        "### 2.5.1 El constructor de la clase hijo\n",
        "\n",
        "Como se ha comentado anteriormente el método que tien *def __init__()* se le conoce como el constructor de la clase, y todas las clases deben de dener un constructor. A continuación se retoma la clase `Carro` con la que se han hecho los ejemplos de las celdas anteriores. El código de la clase está dado por "
      ]
    },
    {
      "cell_type": "code",
      "metadata": {
        "id": "V0RUHiv8ZNFt",
        "colab_type": "code",
        "colab": {}
      },
      "source": [
        "class Carro():\n",
        "    \"\"\"Clase carro\"\"\"\n",
        "    \n",
        "    def __init__(self,modelo,marca = 'Nissan', anio=2020):\n",
        "        \"\"\"Inicializa los atributos del carro\"\"\"\n",
        "        self.marca = marca\n",
        "        self.modelo = modelo\n",
        "        self.anio = anio\n",
        "        self.kilometraje = 0\n",
        "    \n",
        "    def Describe_Carro(self):\n",
        "        \"\"\"Imprime la descripción del carro creado\"\"\"\n",
        "        Descripcion = str(self.anio) + ' ' + self.marca + ' ' + self.modelo\n",
        "        return Descripcion.title()\n",
        "    \n",
        "    def muestra_Kilometraje(self):\n",
        "        \"\"\"Imprime el kilometraje del auto\"\"\"\n",
        "        print(\"Este auto tiene \" + str(self.kilometraje) +\" kilómetros recorridos\")\n",
        "    \n",
        "    def Leer_Kilometraje(self,valor_usuario):\n",
        "        \"\"\"Asigna el valor de de valor_usuario a kilometraje\"\"\"\n",
        "        if valor_usuario >= self.kilometraje:\n",
        "            print(\"Asignación correcta\")\n",
        "            self.kilometraje = valor_usuario\n",
        "        else:\n",
        "            print(\"Asignación incorrecta, no se ha llevado a cabo\")\n",
        "            \n",
        "    def Actualizar_Kilometraje(self,valor_suma):\n",
        "        \"\"\"Suma el valor del usuario al kilometraje del auto\"\"\"\n",
        "        if valor_suma >= 0:\n",
        "            print(\"Incremento correcto\")\n",
        "            self.kilometraje += valor_suma\n",
        "            #self.kilometraje = self.kilometraje + valor_suma\n",
        "        else:\n",
        "            print(\"Incremento incorrecto, no se llevará a cabo\")\n",
        "        "
      ],
      "execution_count": 0,
      "outputs": []
    },
    {
      "cell_type": "markdown",
      "metadata": {
        "id": "jMkBzn-EZNGH",
        "colab_type": "text"
      },
      "source": [
        " Observe que esta clase tiene su constructor y que debe de tener por lo menos un parámetro para que es `marca`, ya que los otros dos parámetros están predeterminados, sin emgargo, el usuario puede definir los tres parámetros, los demás métodos se han explicado en las secciones anteriores. \n",
        " \n",
        " Ahora se quiere generr una clase `CarroElectrico` y se requiere que herede todos atributos de la clase `Carro`, La clase hija debe su propio constructor y dentro de ésta se debe de manda a llmar al constructor de la clase padre, tal como se muestra en la siguiente celda"
      ]
    },
    {
      "cell_type": "code",
      "metadata": {
        "id": "FZgIu1gwZNGM",
        "colab_type": "code",
        "colab": {}
      },
      "source": [
        "class CarroElectrico(Carro):\n",
        "    \"\"\"Representa a un auto eléctrico\"\"\"\n",
        "    def __init__(self,marca, modelo, anio): \n",
        "        #inicializa los elementos de la clase padre.\n",
        "        super().__init__(marca,modelo,anio)"
      ],
      "execution_count": 0,
      "outputs": []
    },
    {
      "cell_type": "markdown",
      "metadata": {
        "id": "BIDUcS-CZNGj",
        "colab_type": "text"
      },
      "source": [
        "En la celda anterior, se muestra la sintaxis para poder definir la herencia, observe que primero debe de ir \n",
        "    `class Clase_hijo(Clase_padre):`, que en nuestro caso la clase hijo es `CarroElectrico` y la  clase padre es  `Carro`. \n",
        "    \n",
        "Una vez que se ha definido la herencia en la implmentación de la clase hijo, se debe de definir el constructor y aquí hay una parte interesante, el constructor de la clase hijo, debe de tener los elementos necesarios para poder inicializar el constructor de la clase padre, argumentos necesarios y propios de la clase hijo:\n",
        "\n",
        "`def _init__(self,argumentos_necesarios_para_clase_padre, argumentos_propios):`\n",
        "\n",
        "y observe que dentro del constructor de la clase hijo, se debe de mandar a llamar al constructor de la clase padre de la siguiente forma:\n",
        "\n",
        "`super()._init__(argumentos_del_constructor_de_la_clase_padre)`\n",
        "\n",
        "observe que el constructor de la clase padre ya no debe de tener como argumento  `self`.\n",
        "\n",
        "En la siguiente celda se observa la creación de un objeto de la clase `CarroElectrico` y se utilizarán los métodos de la clase a la cual se le ha heredado."
      ]
    },
    {
      "cell_type": "code",
      "metadata": {
        "id": "01xipJJzZNGl",
        "colab_type": "code",
        "colab": {
          "base_uri": "https://localhost:8080/",
          "height": 34
        },
        "outputId": "45e0a17e-e29c-4b3a-8981-5f2cc82e3e9d"
      },
      "source": [
        "miTesla = CarroElectrico('tesla','model_s', 2020)\n",
        "print(miTesla.Describe_Carro())"
      ],
      "execution_count": 34,
      "outputs": [
        {
          "output_type": "stream",
          "text": [
            "2020 Model_S Tesla\n"
          ],
          "name": "stdout"
        }
      ]
    },
    {
      "cell_type": "markdown",
      "metadata": {
        "id": "1RkRl7NeZNGy",
        "colab_type": "text"
      },
      "source": [
        "### 2.5.2 Definiendo Atributos y métodos de la clase hija\n",
        "Una vez que se ha logrado la herencia la clase hija NO ESTÁ LIMITADA a tener sólo los métodos y atributos de la clase padre, LA CLASE HIJO PUEDE TENER SUS PROPIOS METODOS Y ATRIBUTOS.\n",
        "\n",
        "Como ejemplo se agregará un atributo a la calse `CarroElectrico`, el atributo que se agregará será `Bateria` que mostrará la corriente por hora que es capaz de brindar al auto. Para agregar el atributo sería el siguiente código"
      ]
    },
    {
      "cell_type": "code",
      "metadata": {
        "id": "A8mCNSF4ZNG9",
        "colab_type": "code",
        "colab": {}
      },
      "source": [
        "class CarroElectrico(Carro):\n",
        "    \"\"\"Representa los aspectos de un auto eléctrico\"\"\"\n",
        "    \n",
        "    def __init__(self,marca,modelo,anio):\n",
        "        \"\"\"Constructor de la clase Hijo\"\"\"\n",
        "        #Inicialización de la clase padre\n",
        "        super().__init__(marca,modelo,anio)\n",
        "        \n",
        "        # Nuevo atributo de la clase \n",
        "        self.Bateria = 70 \n",
        "        \n",
        "    def Describe_Bateria(self):\n",
        "        \"\"\"Imprime la información de la batería\"\"\"\n",
        "        print(\"Este auto tiene una batería: \" + str(self.Bateria) + \"-kWh\")"
      ],
      "execution_count": 0,
      "outputs": []
    },
    {
      "cell_type": "markdown",
      "metadata": {
        "id": "o_ffHSAqZNHC",
        "colab_type": "text"
      },
      "source": [
        "En la celda superior se observa que a la clase `CarroElectrico` se le ha agregado un atributo nuevo y también un método, observe que es la misma metodología que se ha utilizado para definir los métodos y atributos de cualquier clase. \n",
        "\n",
        "Para hacer uso de los métodos es necesario hacerlo como se haría con cualquier clase normal."
      ]
    },
    {
      "cell_type": "markdown",
      "metadata": {
        "id": "q2qrh-AqZNHD",
        "colab_type": "text"
      },
      "source": [
        "### 2.5.3 Sobrecarga de Métodos de la clase padre.\n",
        "\n",
        "Supongamos que la calse padre tiene un método y al momento que hereda, el método pasa a ser parte de la clase hijo, sin embargo, puede que el método de la clase padre no apegue a los requerimientos de la clase hijo, entonces, la clase hijo puede  *redefinir* el método que ha heredado, a este fenómeno se le conoce como **Sobrecarga de funciones o de métodos**\n",
        "\n",
        "Como ejemplo, se muestra la clase padre, que es la clase asociada a un `Carro` y se le agregará un método llamado `Cargar` que simulará el hecho de cargar gasolina. Después se generará la clase de un `CarroElectrico` que hereda de la clase `Carro`, sin embargo, el método `Cargar` deberá de ser distinto, observe los códigos de las siguientes celdas.\n"
      ]
    },
    {
      "cell_type": "code",
      "metadata": {
        "id": "jGcHquqbZNHE",
        "colab_type": "code",
        "colab": {}
      },
      "source": [
        "class Carro():\n",
        "    \"\"\"Clase carro\"\"\"\n",
        "    \n",
        "    def __init__(self,modelo,marca = 'Nissan', anio=2020):\n",
        "        \"\"\"Inicializa los atributos del carro\"\"\"\n",
        "        self.marca = marca\n",
        "        self.modelo = modelo\n",
        "        self.anio = anio\n",
        "        self.kilometraje = 0\n",
        "    \n",
        "    def Describe_Carro(self):\n",
        "        \"\"\"Imprime la descripción del carro creado\"\"\"\n",
        "        Descripcion = str(self.anio) + ' ' + self.marca + ' ' + self.modelo\n",
        "        return Descripcion.title()\n",
        "    \n",
        "    def muestra_Kilometraje(self):\n",
        "        \"\"\"Imprime el kilometraje del auto\"\"\"\n",
        "        print(\"Este auto tiene \" + str(self.kilometraje) +\" kilómetros recorridos\")\n",
        "    \n",
        "    def Leer_Kilometraje(self,valor_usuario):\n",
        "        \"\"\"Asigna el valor de de valor_usuario a kilometraje\"\"\"\n",
        "        if valor_usuario >= self.kilometraje:\n",
        "            print(\"Asignación correcta\")\n",
        "            self.kilometraje = valor_usuario\n",
        "        else:\n",
        "            print(\"Asignación incorrecta, no se ha llevado a cabo\")\n",
        "            \n",
        "    def Actualizar_Kilometraje(self,valor_suma):\n",
        "        \"\"\"Suma el valor del usuario al kilometraje del auto\"\"\"\n",
        "        if valor_suma >= 0:\n",
        "            print(\"Incremento correcto\")\n",
        "            self.kilometraje += valor_suma\n",
        "            #self.kilometraje = self.kilometraje + valor_suma\n",
        "        else:\n",
        "            print(\"Incremento incorrecto, no se llevará a cabo\")\n",
        "    \n",
        "    def Cargar(self):\n",
        "        print(\"El auto se está cargando de gasolina\")"
      ],
      "execution_count": 0,
      "outputs": []
    },
    {
      "cell_type": "code",
      "metadata": {
        "id": "IIfLf6j1ZNHL",
        "colab_type": "code",
        "colab": {}
      },
      "source": [
        "class CarroElectrico(Carro):\n",
        "    \"\"\"Representa los aspectos de un auto eléctrico\"\"\"\n",
        "    \n",
        "    def __init__(self,marca,modelo,anio):\n",
        "        \"\"\"Constructor de la clase Hijo\"\"\"\n",
        "        #Inicialización de la clase padre\n",
        "        super().__init__(marca,modelo,anio)\n",
        "        \n",
        "        # Nuevo atributo de la clase \n",
        "        self.Bateria = 70 \n",
        "        \n",
        "    def Describe_Bateria(self):\n",
        "        \"\"\"Imprime la información de la batería\"\"\"\n",
        "        print(\"Este auto tiene una batería: \" + str(self.Bateria) + \"-kWh\")\n",
        "        \n",
        "    def Cargar(self):\n",
        "        print(\"El auto se ha conectado a la energía eléctrica para cargar la batería\")"
      ],
      "execution_count": 0,
      "outputs": []
    },
    {
      "cell_type": "code",
      "metadata": {
        "id": "MC8NrWIeZNHQ",
        "colab_type": "code",
        "outputId": "27f79012-d820-4b12-802f-012df905a314",
        "colab": {
          "base_uri": "https://localhost:8080/",
          "height": 68
        }
      },
      "source": [
        "miCamioneta = Carro('Ford','Lobo',2018)\n",
        "print(\"Detalles de la camioneta: \" + miCamioneta.Describe_Carro())\n",
        "print(miCamioneta.Cargar())"
      ],
      "execution_count": 40,
      "outputs": [
        {
          "output_type": "stream",
          "text": [
            "Detalles de la camioneta: 2018 Lobo Ford\n",
            "El auto se está cargando de gasolina\n",
            "None\n"
          ],
          "name": "stdout"
        }
      ]
    },
    {
      "cell_type": "markdown",
      "metadata": {
        "id": "kgsviaP1ZNHf",
        "colab_type": "text"
      },
      "source": [
        "En la celda anterior se ha declarado una camioneta Ford, y se ha llamado el método `Describe_Carro` y después se ha llamado el método `Cargar` e imprime el que se está cargando con gasolina. Observemos que pasa ahora si se hace un auto eléctico y llamaremos al método `Cargar` para ver las diferencias. "
      ]
    },
    {
      "cell_type": "code",
      "metadata": {
        "id": "aAfUQLPtZNHi",
        "colab_type": "code",
        "outputId": "f48b0663-d582-4a9a-e65d-d387776fb370",
        "colab": {
          "base_uri": "https://localhost:8080/",
          "height": 68
        }
      },
      "source": [
        "miNissan = CarroElectrico('Nissan', 'Leaf', 2020)\n",
        "print(\"Detalles de auto: \" + miNissan.Describe_Carro())\n",
        "print(miNissan.Cargar())"
      ],
      "execution_count": 41,
      "outputs": [
        {
          "output_type": "stream",
          "text": [
            "Detalles de auto: 2020 Leaf Nissan\n",
            "El auto se ha conectado a la energía eléctrica para cargar la batería\n",
            "None\n"
          ],
          "name": "stdout"
        }
      ]
    },
    {
      "cell_type": "markdown",
      "metadata": {
        "id": "S_zxm1JmZNIW",
        "colab_type": "text"
      },
      "source": [
        "Observa que se ha generado un auto eléctrico y en la definición de la case se agregó el método `Cargar`, en la celda anterior, cuando se manda a llamar el método `Cargar` se llama al método de la clase `CarroElectrico` y no al del `Carro` llevándose a cabo la sobrecarga de funciones. "
      ]
    },
    {
      "cell_type": "markdown",
      "metadata": {
        "id": "pYIuiYplZNIY",
        "colab_type": "text"
      },
      "source": [
        "### 2.5.4 Intancias como atributos\n",
        "\n",
        "Existe otro fenómeno que se llama **Composición de clases** que es muy distinto a la herencia de clases. En la composición un objeto puede ser parte de los atributos, como ejemplo. Suponga que se tiene un robot diferencial como el que se muestra en el link de abajo\n",
        "\n",
        "https://www.youtube.com/watch?v=i-JHGbDN4GA"
      ]
    },
    {
      "cell_type": "markdown",
      "metadata": {
        "id": "GZLsVAjxZNIb",
        "colab_type": "text"
      },
      "source": [
        "Como se observa en el video, el robot tiene dos motores y nos enfocaremos en ese ejemplo. Se creará una clase que describa un motor, que tenga como atributos el `voltaje` de funcionamiento, se agregarán tres métodos para el motor `girar_derecha(self)`, `girar_izquierda(self)` y `paro(self)`"
      ]
    },
    {
      "cell_type": "code",
      "metadata": {
        "id": "99LqarDFZNIh",
        "colab_type": "code",
        "colab": {}
      },
      "source": [
        "class motor():\n",
        "    def __init__(self, volts):\n",
        "        self.voltaje = volts\n",
        "        \n",
        "    def girar_derecha(self):\n",
        "        print(\"El motor está girando a la derecha\")\n",
        "        \n",
        "    def girar_izquierda(self):\n",
        "        print(\"El motor está girando a la izqiuerda\")\n",
        "        \n",
        "    def paro(self):\n",
        "        print(\"El motor está parado\")"
      ],
      "execution_count": 0,
      "outputs": []
    },
    {
      "cell_type": "markdown",
      "metadata": {
        "id": "pBhX9-rYZNIn",
        "colab_type": "text"
      },
      "source": [
        "Una vez que se ha creado la clase motor, se generará la clase `RobotDiferencial` y tendrá como atributos los dos motores. Se agregarán sólo los métodos `Paro` para y `Avanza` para el robot. Para que el robot avance hacia delante, es necesario que el un motor gire a la derecha y el otro a la izquierda. Observe la implmentación de la clase robot"
      ]
    },
    {
      "cell_type": "code",
      "metadata": {
        "id": "oqjW15Z7ZNIr",
        "colab_type": "code",
        "colab": {}
      },
      "source": [
        "class Robot():\n",
        "    def __init__(self, volts):\n",
        "        self.motor1 = motor(volts)\n",
        "        self.motor2 = motor(volts)\n",
        "        print(\"Se ha creado el robot\")\n",
        "        \n",
        "    def Avanza(self):\n",
        "        print(\"El motor está avanzando\")\n",
        "        self.motor1.girar_derecha()\n",
        "        self.motor2.girar_izquierda()\n",
        "        \n",
        "        \n",
        "    def Paro(self):\n",
        "        print(\"El motor se ha parado\")\n",
        "        self.motor1.paro();\n",
        "        self.motor2.paro();"
      ],
      "execution_count": 0,
      "outputs": []
    },
    {
      "cell_type": "code",
      "metadata": {
        "id": "nmSzifvtZNI_",
        "colab_type": "code",
        "outputId": "3471999c-e838-4e75-f6c9-80eebc868482",
        "colab": {
          "base_uri": "https://localhost:8080/",
          "height": 136
        }
      },
      "source": [
        "miRobot = Robot(5)\n",
        "\n",
        "miRobot.Avanza()\n",
        "\n",
        "miRobot.Paro()\n"
      ],
      "execution_count": 44,
      "outputs": [
        {
          "output_type": "stream",
          "text": [
            "Se ha creado el robot\n",
            "El motor está avanzando\n",
            "El motor está girando a la derecha\n",
            "El motor está girando a la izqiuerda\n",
            "El motor se ha parado\n",
            "El motor está parado\n",
            "El motor está parado\n"
          ],
          "name": "stdout"
        }
      ]
    },
    {
      "cell_type": "markdown",
      "metadata": {
        "id": "HLEgppCpZNJJ",
        "colab_type": "text"
      },
      "source": [
        "En las celdas anteriores se ha creado la clase motor y robot, observe que la clase robot está compuesta de dos objetos tipo motor, observe que el constructor de `Robot` debe de tener por lo menos los elementos necesarios para poder incializar los objetos `self.motor1` y `self.motor2`, en el método `Avanza` se utilizan los metodos de los motores para simular que el robot estaría avanzando. Lo mismo sucede para el método de `Paro`, se ingresa a los métodos de los motores para pararlos."
      ]
    },
    {
      "cell_type": "markdown",
      "metadata": {
        "id": "8ym8FVRcZNJK",
        "colab_type": "text"
      },
      "source": [
        "### 2.5.5 Ejercicio\n",
        "\n",
        "1. **Heladería:** Una heladería se puede ver como un tipo específico de restaurante. Cree una clase que se llame `Heladeria` que herede de la clase `Restaurante` que se ha desarrollado en los ejercicios anteriores. Cree un atributo que se llame `sabores` que debe de ser una lista (estructura de datos). Agregar un método a la clase `Heladeria` que muestre los sabores que tiene.\n"
      ]
    },
    {
      "cell_type": "code",
      "metadata": {
        "id": "oJmmK95xkyqO",
        "colab_type": "code",
        "colab": {}
      },
      "source": [
        "class Heladeria (Restaurant):\n",
        "  def __init__(self, sabores):\n",
        "    super().__init__(nombre_restaurant=None, tipo_cocina=None)\n",
        "    self.sabores=sabores\n",
        "\n",
        "  def helados(self):\n",
        "    print (\"Los sabores disponibles: \" +  self.sabores.title())"
      ],
      "execution_count": 0,
      "outputs": []
    },
    {
      "cell_type": "code",
      "metadata": {
        "id": "KBh44CdGnCL4",
        "colab_type": "code",
        "colab": {
          "base_uri": "https://localhost:8080/",
          "height": 119
        },
        "outputId": "edff2eb2-2440-4350-e10b-cd886ddd7911"
      },
      "source": [
        "barra_helados=Heladeria(\"\\nlimon con jengibre \\nchocolate de leche \\nvainilla con cardamomo \\nvino tinto \\nfresa con menta\")\n",
        "barra_helados.helados()"
      ],
      "execution_count": 66,
      "outputs": [
        {
          "output_type": "stream",
          "text": [
            "Los sabores disponibles: \n",
            "Limon Con Jengibre \n",
            "Chocolate De Leche \n",
            "Vainilla Con Cardamomo \n",
            "Vino Tinto \n",
            "Fresa Con Menta\n"
          ],
          "name": "stdout"
        }
      ]
    }
  ]
}